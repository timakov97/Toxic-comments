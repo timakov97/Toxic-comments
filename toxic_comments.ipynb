{
 "cells": [
  {
   "cell_type": "markdown",
   "metadata": {
    "id": "ZiyIve05F9WJ"
   },
   "source": [
    "# Выявление токсичных комментариев"
   ]
  },
  {
   "cell_type": "markdown",
   "metadata": {},
   "source": [
    "### Содержание работы\n",
    "\n",
    "**[Введение](#0)**\n",
    "\n",
    "**[1. Загрузка и обработка данных](#1)** \n",
    "   \n",
    "**[2. Обучение моделей](#2)**\n",
    "     \n",
    "**[3. Тестирование](#3)** \n",
    "\n",
    "**[Заключение](#4)**"
   ]
  },
  {
   "cell_type": "markdown",
   "metadata": {},
   "source": [
    "## Описание проекта <a id=\"0\"></a>"
   ]
  },
  {
   "cell_type": "markdown",
   "metadata": {
    "id": "OFAy1I2GFJxk"
   },
   "source": [
    "Интернет-магазин «Викишоп» запускает новый сервис. Пользователи смогут редактировать и дополнять описания товаров, как в вики-сообществах, то есть предлагать свои правки и комментировать изменения других. Магазину нужен инструмент, который будет искать токсичные комментарии и отправлять их на модерацию.\n",
    "\n",
    "Для идентификации токсичных комментариев, **необходимо построить модель, классифицирующую комментарии на позитивные и негативные**. В распоряжении имеется набор данных с разметкой о токсичности правок.\n",
    "\n",
    "Необходимо построить модель со значением метрики качества F1 не меньше 0.75."
   ]
  },
  {
   "cell_type": "markdown",
   "metadata": {
    "id": "g5KIBE0mGghd"
   },
   "source": [
    "## 1. Загрузка и обработка данных <a id=\"1\"></a>"
   ]
  },
  {
   "cell_type": "code",
   "execution_count": 2,
   "metadata": {
    "id": "UeKDdACWPASU"
   },
   "outputs": [],
   "source": [
    "import pandas as pd\n",
    "import numpy as np\n",
    "import os\n",
    "\n",
    "from sklearn.tree import DecisionTreeClassifier\n",
    "from sklearn.ensemble import RandomForestClassifier\n",
    "from sklearn.linear_model import LogisticRegression\n",
    "from sklearn.model_selection import train_test_split, ParameterGrid\n",
    "from sklearn.feature_extraction.text import CountVectorizer, TfidfVectorizer, TfidfTransformer\n",
    "from sklearn.preprocessing import FunctionTransformer\n",
    "from sklearn.metrics import f1_score\n",
    "\n",
    "from lightgbm import LGBMClassifier\n",
    "\n",
    "import spacy\n",
    "\n",
    "from tqdm import tqdm"
   ]
  },
  {
   "cell_type": "markdown",
   "metadata": {
    "id": "c-Ha3cH0GV-2"
   },
   "source": [
    "Загрузим файл с данными и сохраним его в переменной `comments`."
   ]
  },
  {
   "cell_type": "code",
   "execution_count": 3,
   "metadata": {
    "colab": {
     "base_uri": "https://localhost:8080/"
    },
    "id": "-p1zyIvoT6eI",
    "outputId": "bb267155-ec16-4ef4-bacd-ecf24dc79f61"
   },
   "outputs": [
    {
     "name": "stdout",
     "output_type": "stream",
     "text": [
      "Mounted at /content/drive\n"
     ]
    }
   ],
   "source": [
    "from google.colab import drive \n",
    "drive.mount('/content/drive')"
   ]
  },
  {
   "cell_type": "code",
   "execution_count": 4,
   "metadata": {
    "colab": {
     "base_uri": "https://localhost:8080/"
    },
    "id": "rldCx1uFUKMm",
    "outputId": "26cbdfca-2bd1-4b51-84dc-b0db20e16243"
   },
   "outputs": [
    {
     "name": "stdout",
     "output_type": "stream",
     "text": [
      "/content/drive/My Drive\n"
     ]
    }
   ],
   "source": [
    "%cd /content/drive/My\\ Drive/"
   ]
  },
  {
   "cell_type": "code",
   "execution_count": 5,
   "metadata": {
    "id": "mSQbMRDKPSwZ"
   },
   "outputs": [],
   "source": [
    "comments = pd.read_csv('toxic_comments.csv')"
   ]
  },
  {
   "cell_type": "code",
   "execution_count": 6,
   "metadata": {
    "colab": {
     "base_uri": "https://localhost:8080/"
    },
    "id": "nU6bJnG3XGIL",
    "outputId": "357c8742-bbf2-48a7-a653-9df9c4d9e877"
   },
   "outputs": [
    {
     "name": "stdout",
     "output_type": "stream",
     "text": [
      "<class 'pandas.core.frame.DataFrame'>\n",
      "RangeIndex: 159571 entries, 0 to 159570\n",
      "Data columns (total 2 columns):\n",
      " #   Column  Non-Null Count   Dtype \n",
      "---  ------  --------------   ----- \n",
      " 0   text    159571 non-null  object\n",
      " 1   toxic   159571 non-null  int64 \n",
      "dtypes: int64(1), object(1)\n",
      "memory usage: 2.4+ MB\n"
     ]
    }
   ],
   "source": [
    "comments.info()"
   ]
  },
  {
   "cell_type": "markdown",
   "metadata": {
    "id": "316IO4q9Gox2"
   },
   "source": [
    "Все данные размечены. Посмотрим на примеры токсичных  и нетоксичных комментариев:"
   ]
  },
  {
   "cell_type": "code",
   "execution_count": 7,
   "metadata": {
    "colab": {
     "base_uri": "https://localhost:8080/",
     "height": 195
    },
    "id": "0wkadVgGPSq8",
    "outputId": "597e540f-d08a-4eee-9c63-33b894d9f12b"
   },
   "outputs": [
    {
     "data": {
      "text/html": [
       "<div>\n",
       "<style scoped>\n",
       "    .dataframe tbody tr th:only-of-type {\n",
       "        vertical-align: middle;\n",
       "    }\n",
       "\n",
       "    .dataframe tbody tr th {\n",
       "        vertical-align: top;\n",
       "    }\n",
       "\n",
       "    .dataframe thead th {\n",
       "        text-align: right;\n",
       "    }\n",
       "</style>\n",
       "<table border=\"1\" class=\"dataframe\">\n",
       "  <thead>\n",
       "    <tr style=\"text-align: right;\">\n",
       "      <th></th>\n",
       "      <th>text</th>\n",
       "      <th>toxic</th>\n",
       "    </tr>\n",
       "  </thead>\n",
       "  <tbody>\n",
       "    <tr>\n",
       "      <th>42045</th>\n",
       "      <td>\"\\n\\n Vandalism \\n\\nYou seem to have a questio...</td>\n",
       "      <td>0</td>\n",
       "    </tr>\n",
       "    <tr>\n",
       "      <th>136511</th>\n",
       "      <td>\"==Notability of Hero for now==\\nA tag has bee...</td>\n",
       "      <td>0</td>\n",
       "    </tr>\n",
       "    <tr>\n",
       "      <th>100071</th>\n",
       "      <td>Hi, the links work for me now, so must've been...</td>\n",
       "      <td>0</td>\n",
       "    </tr>\n",
       "    <tr>\n",
       "      <th>137068</th>\n",
       "      <td>Corrected the value on the number of signature...</td>\n",
       "      <td>0</td>\n",
       "    </tr>\n",
       "    <tr>\n",
       "      <th>123538</th>\n",
       "      <td>1. Active serive and ASU are commonly used ter...</td>\n",
       "      <td>0</td>\n",
       "    </tr>\n",
       "  </tbody>\n",
       "</table>\n",
       "</div>"
      ],
      "text/plain": [
       "                                                     text  toxic\n",
       "42045   \"\\n\\n Vandalism \\n\\nYou seem to have a questio...      0\n",
       "136511  \"==Notability of Hero for now==\\nA tag has bee...      0\n",
       "100071  Hi, the links work for me now, so must've been...      0\n",
       "137068  Corrected the value on the number of signature...      0\n",
       "123538  1. Active serive and ASU are commonly used ter...      0"
      ]
     },
     "execution_count": 7,
     "metadata": {
      "tags": []
     },
     "output_type": "execute_result"
    }
   ],
   "source": [
    "comments.sample(5)"
   ]
  },
  {
   "cell_type": "code",
   "execution_count": 8,
   "metadata": {
    "colab": {
     "base_uri": "https://localhost:8080/"
    },
    "id": "lUoY3p1qPSo9",
    "outputId": "ae9d15ea-dc61-45b0-bcce-b17d303eac9c"
   },
   "outputs": [
    {
     "data": {
      "text/plain": [
       "57082    Cuz this admin is a maggot and slave to is POV...\n",
       "58914    Glockers Deletion \\n\\nSuck my ballz fagget, do...\n",
       "22449    Kathryn Bigelow is a patriot who makes great w...\n",
       "Name: text, dtype: object"
      ]
     },
     "execution_count": 8,
     "metadata": {
      "tags": []
     },
     "output_type": "execute_result"
    }
   ],
   "source": [
    "comments[comments['toxic']==1].sample(3)['text']"
   ]
  },
  {
   "cell_type": "code",
   "execution_count": 9,
   "metadata": {
    "colab": {
     "base_uri": "https://localhost:8080/"
    },
    "id": "DP7QsX8EPSmO",
    "outputId": "7fcdae09-d24f-431c-c4a6-d2093054d865"
   },
   "outputs": [
    {
     "data": {
      "text/plain": [
       "46816    All i can remember, in fact, is schnarquing yo...\n",
       "25532          Preferably not. This section can be closed.\n",
       "51125    Italian colonisation of the Americas \\n\\nHi Re...\n",
       "Name: text, dtype: object"
      ]
     },
     "execution_count": 9,
     "metadata": {
      "tags": []
     },
     "output_type": "execute_result"
    }
   ],
   "source": [
    "comments[comments['toxic']==0].sample(3)['text']"
   ]
  },
  {
   "cell_type": "markdown",
   "metadata": {
    "id": "rWEv6BXBG30K"
   },
   "source": [
    "Посчитаем относительные размеры классов:"
   ]
  },
  {
   "cell_type": "code",
   "execution_count": 10,
   "metadata": {
    "colab": {
     "base_uri": "https://localhost:8080/"
    },
    "id": "M1H86rxjPSkX",
    "outputId": "5644b955-3bec-486f-811f-f267f9801bb8"
   },
   "outputs": [
    {
     "data": {
      "text/plain": [
       "0    0.898321\n",
       "1    0.101679\n",
       "Name: toxic, dtype: float64"
      ]
     },
     "execution_count": 10,
     "metadata": {
      "tags": []
     },
     "output_type": "execute_result"
    }
   ],
   "source": [
    "comments['toxic'].value_counts()/len(comments)"
   ]
  },
  {
   "cell_type": "markdown",
   "metadata": {
    "id": "L4HoA83NHAI0"
   },
   "source": [
    "Почти 90% — нетоксичные комментарии, 10% — токсичные. При построении моделей необходимо учитывать дисбаланс классов."
   ]
  },
  {
   "cell_type": "markdown",
   "metadata": {
    "id": "7iSaL1ZBHXR7"
   },
   "source": [
    "Лемматизируем комментарии."
   ]
  },
  {
   "cell_type": "code",
   "execution_count": 11,
   "metadata": {
    "id": "oHA_opKEpMtr"
   },
   "outputs": [],
   "source": [
    "nlp = spacy.load('en')\n",
    "\n",
    "comments['lemmatized'] = comments['text'].apply(lambda x: \" \".join([token.lemma_ for token in nlp(x)]))"
   ]
  },
  {
   "cell_type": "markdown",
   "metadata": {
    "id": "iHeTyNPtHdTn"
   },
   "source": [
    "Разобьём выборку на обучающую, валидационную и тестовую в отношении 3:1:1."
   ]
  },
  {
   "cell_type": "code",
   "execution_count": 12,
   "metadata": {
    "colab": {
     "base_uri": "https://localhost:8080/"
    },
    "id": "bx5fFl51PSfx",
    "outputId": "31b8b0fb-4604-40d9-f249-226cf96c91d9"
   },
   "outputs": [
    {
     "name": "stdout",
     "output_type": "stream",
     "text": [
      "(95742, 3)\n",
      "(31914, 3)\n",
      "(31915, 3)\n"
     ]
    }
   ],
   "source": [
    "train_valid, test = train_test_split(comments, test_size=0.2, random_state=12345)\n",
    "train, valid = train_test_split(train_valid, test_size=0.25, random_state=12345)\n",
    "\n",
    "print(train.shape)\n",
    "print(valid.shape)\n",
    "print(test.shape)"
   ]
  },
  {
   "cell_type": "code",
   "execution_count": 14,
   "metadata": {
    "id": "23Vnp0Phufa0"
   },
   "outputs": [],
   "source": [
    "corpus_train = train['lemmatized'].values.astype('U')\n",
    "corpus_valid = valid['lemmatized'].values.astype('U')\n",
    "corpus_test = test['lemmatized'].values.astype('U')"
   ]
  },
  {
   "cell_type": "markdown",
   "metadata": {
    "id": "eO2RxCs-Hob4"
   },
   "source": [
    "Создадим признаки для моделей — посчитаем TF-IDF для слов в комментариях. Зададим стартовые значения параметров min_df=0.05 и max_df=0.5.\n"
   ]
  },
  {
   "cell_type": "code",
   "execution_count": 15,
   "metadata": {
    "id": "zgJf-6pkanGm"
   },
   "outputs": [],
   "source": [
    "count_tf_idf = TfidfVectorizer(token_pattern=r'[A-Za-z]{2,}', stop_words='english', min_df=.05, max_df=0.5)\n",
    "\n",
    "count_tf_idf.fit(corpus_train)\n",
    "\n",
    "X_train = count_tf_idf.transform(corpus_train)\n",
    "X_valid = count_tf_idf.transform(corpus_valid)\n",
    "X_test = count_tf_idf.transform(corpus_test)"
   ]
  },
  {
   "cell_type": "code",
   "execution_count": 16,
   "metadata": {
    "id": "eM64-g4kvHrT"
   },
   "outputs": [],
   "source": [
    "y_train = train['toxic'].values\n",
    "y_valid = valid['toxic'].values\n",
    "y_test = test['toxic'].values"
   ]
  },
  {
   "cell_type": "markdown",
   "metadata": {
    "id": "wq6BdTGjtSto"
   },
   "source": [
    "## 2. Обучение моделей <a id=\"2\"></a>"
   ]
  },
  {
   "cell_type": "markdown",
   "metadata": {
    "id": "T9ByY67cIg6Y"
   },
   "source": [
    "Построим первую модель логистической регрессии."
   ]
  },
  {
   "cell_type": "code",
   "execution_count": 17,
   "metadata": {
    "colab": {
     "base_uri": "https://localhost:8080/"
    },
    "id": "uTcSQ-C3vHoa",
    "outputId": "23db7cf7-a7cf-4b95-c62b-05fef69ce930"
   },
   "outputs": [
    {
     "name": "stdout",
     "output_type": "stream",
     "text": [
      "F1-score на обучающей выборке:  0.29142044430199715\n",
      "F1-score на валидационной выборке:  0.29934484812388323\n"
     ]
    }
   ],
   "source": [
    "lr = LogisticRegression(random_state=12345, class_weight='balanced')\n",
    "\n",
    "lr.fit(X_train, y_train)\n",
    "\n",
    "pred_train = lr.predict(X_train)\n",
    "pred_valid = lr.predict(X_valid)\n",
    "\n",
    "print('F1-score на обучающей выборке: ', f1_score(y_train, pred_train))\n",
    "print('F1-score на валидационной выборке: ', f1_score(y_valid, pred_valid))"
   ]
  },
  {
   "cell_type": "markdown",
   "metadata": {
    "id": "Wk-Szz6GIl5n"
   },
   "source": [
    "Значение F1-меры значительно меньше требуемого.\n",
    "\n",
    "Построим модель дерева решений:"
   ]
  },
  {
   "cell_type": "code",
   "execution_count": 18,
   "metadata": {
    "colab": {
     "base_uri": "https://localhost:8080/"
    },
    "id": "OS1l76LIvHlr",
    "outputId": "28f45d72-d094-4ef2-e697-6be0e09ea245"
   },
   "outputs": [
    {
     "name": "stdout",
     "output_type": "stream",
     "text": [
      "F1-score на обучающей выборке:  0.4220538524303532\n",
      "F1-score на валидационной выборке:  0.29110882251973913\n"
     ]
    }
   ],
   "source": [
    "dt = DecisionTreeClassifier(random_state=12345, class_weight='balanced')\n",
    "\n",
    "dt.fit(X_train, y_train)\n",
    "\n",
    "pred_train = dt.predict(X_train)\n",
    "pred_valid = dt.predict(X_valid)\n",
    "\n",
    "print('F1-score на обучающей выборке: ', f1_score(y_train, pred_train))\n",
    "print('F1-score на валидационной выборке: ', f1_score(y_valid, pred_valid))"
   ]
  },
  {
   "cell_type": "markdown",
   "metadata": {
    "id": "IBkHWrplIsVD"
   },
   "source": [
    "F1-мера на валидационной выборке по-прежнему недостаточно велика.\n",
    "\n",
    "Попробуем построить модель случайного леса:"
   ]
  },
  {
   "cell_type": "code",
   "execution_count": 19,
   "metadata": {
    "colab": {
     "base_uri": "https://localhost:8080/"
    },
    "id": "4tpbgLNivHir",
    "outputId": "30e59c26-02ab-4b46-eac6-2ff251db218b"
   },
   "outputs": [
    {
     "name": "stdout",
     "output_type": "stream",
     "text": [
      "F1-score на обучающей выборке:  0.42613788243299067\n",
      "F1-score на валидационной выборке:  0.29400030688967316\n"
     ]
    }
   ],
   "source": [
    "rf = RandomForestClassifier(n_estimators=50, random_state=12345, class_weight='balanced')\n",
    "\n",
    "rf.fit(X_train, y_train)\n",
    "\n",
    "pred_train = rf.predict(X_train)\n",
    "pred_valid = rf.predict(X_valid)\n",
    "\n",
    "print('F1-score на обучающей выборке: ', f1_score(y_train, pred_train))\n",
    "print('F1-score на валидационной выборке: ', f1_score(y_valid, pred_valid))"
   ]
  },
  {
   "cell_type": "markdown",
   "metadata": {
    "id": "IKvMjXxmJGHY"
   },
   "source": [
    "Результат по-прежнему неудовлетворительный."
   ]
  },
  {
   "cell_type": "markdown",
   "metadata": {
    "id": "Kfwht8EuJPwx"
   },
   "source": [
    "Попробуем изменить параметры min_df и max_df:"
   ]
  },
  {
   "cell_type": "code",
   "execution_count": 20,
   "metadata": {
    "id": "UoLRqwAO8jTG"
   },
   "outputs": [],
   "source": [
    "param_grid = dict(min_df=[0, .01, .02, .03, .04, .05], max_df=[.2, .3, .4, .5])"
   ]
  },
  {
   "cell_type": "code",
   "execution_count": 22,
   "metadata": {
    "colab": {
     "base_uri": "https://localhost:8080/"
    },
    "id": "eUDrcQnZ8jP0",
    "outputId": "e3ea948a-ed80-4478-c253-423304f8af43"
   },
   "outputs": [
    {
     "name": "stderr",
     "output_type": "stream",
     "text": [
      "100%|██████████| 24/24 [06:57<00:00, 17.40s/it]\n"
     ]
    }
   ],
   "source": [
    "results = []\n",
    "for params in tqdm(ParameterGrid(param_grid)):\n",
    "\n",
    "  count_tf_idf = TfidfVectorizer(token_pattern=r'[A-Za-z]{2,}', stop_words='english', min_df=params['min_df'], max_df=params['max_df'])\n",
    "  count_tf_idf.fit(corpus_train)\n",
    "\n",
    "  X_train = count_tf_idf.transform(corpus_train)\n",
    "  X_valid = count_tf_idf.transform(corpus_valid)\n",
    "\n",
    "  lr = LogisticRegression(random_state=12345, class_weight='balanced')\n",
    "  lr.fit(X_train, y_train)\n",
    "\n",
    "  results.append(dict(\n",
    "    parameters=params,\n",
    "    f1_train = f1_score(y_true=y_train, y_pred=lr.predict(X_train)),\n",
    "    f1_valid = f1_score(y_true=y_valid, y_pred=lr.predict(X_valid)),\n",
    "  ))"
   ]
  },
  {
   "cell_type": "code",
   "execution_count": 23,
   "metadata": {
    "colab": {
     "base_uri": "https://localhost:8080/",
     "height": 518
    },
    "id": "1rO_7kYP8jM1",
    "outputId": "f6a05af6-24d0-46e6-fda6-b6735231b987"
   },
   "outputs": [
    {
     "data": {
      "text/html": [
       "<style  type=\"text/css\" >\n",
       "#T_1eee7710_8d5f_11eb_a752_0242ac1c0002row0_col1,#T_1eee7710_8d5f_11eb_a752_0242ac1c0002row1_col1,#T_1eee7710_8d5f_11eb_a752_0242ac1c0002row2_col1,#T_1eee7710_8d5f_11eb_a752_0242ac1c0002row3_col1{\n",
       "            width:  10em;\n",
       "             height:  80%;\n",
       "            background:  linear-gradient(90deg,#d65f5f 84.2%, transparent 84.2%);\n",
       "        }#T_1eee7710_8d5f_11eb_a752_0242ac1c0002row0_col2{\n",
       "            width:  10em;\n",
       "             height:  80%;\n",
       "            background:  linear-gradient(90deg,#d65f5f 75.3%, transparent 75.3%);\n",
       "        }#T_1eee7710_8d5f_11eb_a752_0242ac1c0002row1_col2,#T_1eee7710_8d5f_11eb_a752_0242ac1c0002row2_col2,#T_1eee7710_8d5f_11eb_a752_0242ac1c0002row3_col2{\n",
       "            width:  10em;\n",
       "             height:  80%;\n",
       "            background:  linear-gradient(90deg,#d65f5f 75.2%, transparent 75.2%);\n",
       "        }#T_1eee7710_8d5f_11eb_a752_0242ac1c0002row4_col1,#T_1eee7710_8d5f_11eb_a752_0242ac1c0002row4_col2,#T_1eee7710_8d5f_11eb_a752_0242ac1c0002row5_col1,#T_1eee7710_8d5f_11eb_a752_0242ac1c0002row5_col2,#T_1eee7710_8d5f_11eb_a752_0242ac1c0002row6_col1,#T_1eee7710_8d5f_11eb_a752_0242ac1c0002row6_col2{\n",
       "            width:  10em;\n",
       "             height:  80%;\n",
       "            background:  linear-gradient(90deg,#d65f5f 40.9%, transparent 40.9%);\n",
       "        }#T_1eee7710_8d5f_11eb_a752_0242ac1c0002row7_col1{\n",
       "            width:  10em;\n",
       "             height:  80%;\n",
       "            background:  linear-gradient(90deg,#d65f5f 40.7%, transparent 40.7%);\n",
       "        }#T_1eee7710_8d5f_11eb_a752_0242ac1c0002row7_col2{\n",
       "            width:  10em;\n",
       "             height:  80%;\n",
       "            background:  linear-gradient(90deg,#d65f5f 40.5%, transparent 40.5%);\n",
       "        }#T_1eee7710_8d5f_11eb_a752_0242ac1c0002row8_col1,#T_1eee7710_8d5f_11eb_a752_0242ac1c0002row9_col1,#T_1eee7710_8d5f_11eb_a752_0242ac1c0002row10_col1{\n",
       "            width:  10em;\n",
       "             height:  80%;\n",
       "            background:  linear-gradient(90deg,#d65f5f 34.8%, transparent 34.8%);\n",
       "        }#T_1eee7710_8d5f_11eb_a752_0242ac1c0002row8_col2,#T_1eee7710_8d5f_11eb_a752_0242ac1c0002row9_col2,#T_1eee7710_8d5f_11eb_a752_0242ac1c0002row10_col2{\n",
       "            width:  10em;\n",
       "             height:  80%;\n",
       "            background:  linear-gradient(90deg,#d65f5f 35.8%, transparent 35.8%);\n",
       "        }#T_1eee7710_8d5f_11eb_a752_0242ac1c0002row11_col1{\n",
       "            width:  10em;\n",
       "             height:  80%;\n",
       "            background:  linear-gradient(90deg,#d65f5f 34.5%, transparent 34.5%);\n",
       "        }#T_1eee7710_8d5f_11eb_a752_0242ac1c0002row11_col2{\n",
       "            width:  10em;\n",
       "             height:  80%;\n",
       "            background:  linear-gradient(90deg,#d65f5f 35.4%, transparent 35.4%);\n",
       "        }#T_1eee7710_8d5f_11eb_a752_0242ac1c0002row12_col1,#T_1eee7710_8d5f_11eb_a752_0242ac1c0002row13_col1,#T_1eee7710_8d5f_11eb_a752_0242ac1c0002row14_col1{\n",
       "            width:  10em;\n",
       "             height:  80%;\n",
       "            background:  linear-gradient(90deg,#d65f5f 32.8%, transparent 32.8%);\n",
       "        }#T_1eee7710_8d5f_11eb_a752_0242ac1c0002row12_col2,#T_1eee7710_8d5f_11eb_a752_0242ac1c0002row13_col2,#T_1eee7710_8d5f_11eb_a752_0242ac1c0002row14_col2{\n",
       "            width:  10em;\n",
       "             height:  80%;\n",
       "            background:  linear-gradient(90deg,#d65f5f 33.7%, transparent 33.7%);\n",
       "        }#T_1eee7710_8d5f_11eb_a752_0242ac1c0002row15_col1{\n",
       "            width:  10em;\n",
       "             height:  80%;\n",
       "            background:  linear-gradient(90deg,#d65f5f 32.3%, transparent 32.3%);\n",
       "        }#T_1eee7710_8d5f_11eb_a752_0242ac1c0002row15_col2{\n",
       "            width:  10em;\n",
       "             height:  80%;\n",
       "            background:  linear-gradient(90deg,#d65f5f 33.0%, transparent 33.0%);\n",
       "        }#T_1eee7710_8d5f_11eb_a752_0242ac1c0002row16_col1,#T_1eee7710_8d5f_11eb_a752_0242ac1c0002row17_col1,#T_1eee7710_8d5f_11eb_a752_0242ac1c0002row18_col1{\n",
       "            width:  10em;\n",
       "             height:  80%;\n",
       "            background:  linear-gradient(90deg,#d65f5f 30.6%, transparent 30.6%);\n",
       "        }#T_1eee7710_8d5f_11eb_a752_0242ac1c0002row16_col2,#T_1eee7710_8d5f_11eb_a752_0242ac1c0002row17_col2,#T_1eee7710_8d5f_11eb_a752_0242ac1c0002row18_col2{\n",
       "            width:  10em;\n",
       "             height:  80%;\n",
       "            background:  linear-gradient(90deg,#d65f5f 31.6%, transparent 31.6%);\n",
       "        }#T_1eee7710_8d5f_11eb_a752_0242ac1c0002row19_col1{\n",
       "            width:  10em;\n",
       "             height:  80%;\n",
       "            background:  linear-gradient(90deg,#d65f5f 30.1%, transparent 30.1%);\n",
       "        }#T_1eee7710_8d5f_11eb_a752_0242ac1c0002row19_col2{\n",
       "            width:  10em;\n",
       "             height:  80%;\n",
       "            background:  linear-gradient(90deg,#d65f5f 30.9%, transparent 30.9%);\n",
       "        }#T_1eee7710_8d5f_11eb_a752_0242ac1c0002row20_col1,#T_1eee7710_8d5f_11eb_a752_0242ac1c0002row21_col1,#T_1eee7710_8d5f_11eb_a752_0242ac1c0002row22_col1{\n",
       "            width:  10em;\n",
       "             height:  80%;\n",
       "            background:  linear-gradient(90deg,#d65f5f 29.1%, transparent 29.1%);\n",
       "        }#T_1eee7710_8d5f_11eb_a752_0242ac1c0002row20_col2,#T_1eee7710_8d5f_11eb_a752_0242ac1c0002row21_col2,#T_1eee7710_8d5f_11eb_a752_0242ac1c0002row22_col2{\n",
       "            width:  10em;\n",
       "             height:  80%;\n",
       "            background:  linear-gradient(90deg,#d65f5f 29.9%, transparent 29.9%);\n",
       "        }#T_1eee7710_8d5f_11eb_a752_0242ac1c0002row23_col1{\n",
       "            width:  10em;\n",
       "             height:  80%;\n",
       "            background:  linear-gradient(90deg,#d65f5f 28.3%, transparent 28.3%);\n",
       "        }#T_1eee7710_8d5f_11eb_a752_0242ac1c0002row23_col2{\n",
       "            width:  10em;\n",
       "             height:  80%;\n",
       "            background:  linear-gradient(90deg,#d65f5f 29.0%, transparent 29.0%);\n",
       "        }</style><table id=\"T_1eee7710_8d5f_11eb_a752_0242ac1c0002\" ><thead>    <tr>        <th class=\"blank level0\" ></th>        <th class=\"col_heading level0 col0\" >parameters</th>        <th class=\"col_heading level0 col1\" >f1_train</th>        <th class=\"col_heading level0 col2\" >f1_valid</th>    </tr></thead><tbody>\n",
       "                <tr>\n",
       "                        <th id=\"T_1eee7710_8d5f_11eb_a752_0242ac1c0002level0_row0\" class=\"row_heading level0 row0\" >0</th>\n",
       "                        <td id=\"T_1eee7710_8d5f_11eb_a752_0242ac1c0002row0_col0\" class=\"data row0 col0\" >{'max_df': 0.2, 'min_df': 0}</td>\n",
       "                        <td id=\"T_1eee7710_8d5f_11eb_a752_0242ac1c0002row0_col1\" class=\"data row0 col1\" >0.842252</td>\n",
       "                        <td id=\"T_1eee7710_8d5f_11eb_a752_0242ac1c0002row0_col2\" class=\"data row0 col2\" >0.753302</td>\n",
       "            </tr>\n",
       "            <tr>\n",
       "                        <th id=\"T_1eee7710_8d5f_11eb_a752_0242ac1c0002level0_row1\" class=\"row_heading level0 row1\" >6</th>\n",
       "                        <td id=\"T_1eee7710_8d5f_11eb_a752_0242ac1c0002row1_col0\" class=\"data row1 col0\" >{'max_df': 0.3, 'min_df': 0}</td>\n",
       "                        <td id=\"T_1eee7710_8d5f_11eb_a752_0242ac1c0002row1_col1\" class=\"data row1 col1\" >0.841977</td>\n",
       "                        <td id=\"T_1eee7710_8d5f_11eb_a752_0242ac1c0002row1_col2\" class=\"data row1 col2\" >0.752436</td>\n",
       "            </tr>\n",
       "            <tr>\n",
       "                        <th id=\"T_1eee7710_8d5f_11eb_a752_0242ac1c0002level0_row2\" class=\"row_heading level0 row2\" >18</th>\n",
       "                        <td id=\"T_1eee7710_8d5f_11eb_a752_0242ac1c0002row2_col0\" class=\"data row2 col0\" >{'max_df': 0.5, 'min_df': 0}</td>\n",
       "                        <td id=\"T_1eee7710_8d5f_11eb_a752_0242ac1c0002row2_col1\" class=\"data row2 col1\" >0.841977</td>\n",
       "                        <td id=\"T_1eee7710_8d5f_11eb_a752_0242ac1c0002row2_col2\" class=\"data row2 col2\" >0.752436</td>\n",
       "            </tr>\n",
       "            <tr>\n",
       "                        <th id=\"T_1eee7710_8d5f_11eb_a752_0242ac1c0002level0_row3\" class=\"row_heading level0 row3\" >12</th>\n",
       "                        <td id=\"T_1eee7710_8d5f_11eb_a752_0242ac1c0002row3_col0\" class=\"data row3 col0\" >{'max_df': 0.4, 'min_df': 0}</td>\n",
       "                        <td id=\"T_1eee7710_8d5f_11eb_a752_0242ac1c0002row3_col1\" class=\"data row3 col1\" >0.841977</td>\n",
       "                        <td id=\"T_1eee7710_8d5f_11eb_a752_0242ac1c0002row3_col2\" class=\"data row3 col2\" >0.752436</td>\n",
       "            </tr>\n",
       "            <tr>\n",
       "                        <th id=\"T_1eee7710_8d5f_11eb_a752_0242ac1c0002level0_row4\" class=\"row_heading level0 row4\" >19</th>\n",
       "                        <td id=\"T_1eee7710_8d5f_11eb_a752_0242ac1c0002row4_col0\" class=\"data row4 col0\" >{'max_df': 0.5, 'min_df': 0.01}</td>\n",
       "                        <td id=\"T_1eee7710_8d5f_11eb_a752_0242ac1c0002row4_col1\" class=\"data row4 col1\" >0.409161</td>\n",
       "                        <td id=\"T_1eee7710_8d5f_11eb_a752_0242ac1c0002row4_col2\" class=\"data row4 col2\" >0.408681</td>\n",
       "            </tr>\n",
       "            <tr>\n",
       "                        <th id=\"T_1eee7710_8d5f_11eb_a752_0242ac1c0002level0_row5\" class=\"row_heading level0 row5\" >7</th>\n",
       "                        <td id=\"T_1eee7710_8d5f_11eb_a752_0242ac1c0002row5_col0\" class=\"data row5 col0\" >{'max_df': 0.3, 'min_df': 0.01}</td>\n",
       "                        <td id=\"T_1eee7710_8d5f_11eb_a752_0242ac1c0002row5_col1\" class=\"data row5 col1\" >0.409161</td>\n",
       "                        <td id=\"T_1eee7710_8d5f_11eb_a752_0242ac1c0002row5_col2\" class=\"data row5 col2\" >0.408681</td>\n",
       "            </tr>\n",
       "            <tr>\n",
       "                        <th id=\"T_1eee7710_8d5f_11eb_a752_0242ac1c0002level0_row6\" class=\"row_heading level0 row6\" >13</th>\n",
       "                        <td id=\"T_1eee7710_8d5f_11eb_a752_0242ac1c0002row6_col0\" class=\"data row6 col0\" >{'max_df': 0.4, 'min_df': 0.01}</td>\n",
       "                        <td id=\"T_1eee7710_8d5f_11eb_a752_0242ac1c0002row6_col1\" class=\"data row6 col1\" >0.409161</td>\n",
       "                        <td id=\"T_1eee7710_8d5f_11eb_a752_0242ac1c0002row6_col2\" class=\"data row6 col2\" >0.408681</td>\n",
       "            </tr>\n",
       "            <tr>\n",
       "                        <th id=\"T_1eee7710_8d5f_11eb_a752_0242ac1c0002level0_row7\" class=\"row_heading level0 row7\" >1</th>\n",
       "                        <td id=\"T_1eee7710_8d5f_11eb_a752_0242ac1c0002row7_col0\" class=\"data row7 col0\" >{'max_df': 0.2, 'min_df': 0.01}</td>\n",
       "                        <td id=\"T_1eee7710_8d5f_11eb_a752_0242ac1c0002row7_col1\" class=\"data row7 col1\" >0.406916</td>\n",
       "                        <td id=\"T_1eee7710_8d5f_11eb_a752_0242ac1c0002row7_col2\" class=\"data row7 col2\" >0.405057</td>\n",
       "            </tr>\n",
       "            <tr>\n",
       "                        <th id=\"T_1eee7710_8d5f_11eb_a752_0242ac1c0002level0_row8\" class=\"row_heading level0 row8\" >14</th>\n",
       "                        <td id=\"T_1eee7710_8d5f_11eb_a752_0242ac1c0002row8_col0\" class=\"data row8 col0\" >{'max_df': 0.4, 'min_df': 0.02}</td>\n",
       "                        <td id=\"T_1eee7710_8d5f_11eb_a752_0242ac1c0002row8_col1\" class=\"data row8 col1\" >0.347812</td>\n",
       "                        <td id=\"T_1eee7710_8d5f_11eb_a752_0242ac1c0002row8_col2\" class=\"data row8 col2\" >0.358142</td>\n",
       "            </tr>\n",
       "            <tr>\n",
       "                        <th id=\"T_1eee7710_8d5f_11eb_a752_0242ac1c0002level0_row9\" class=\"row_heading level0 row9\" >8</th>\n",
       "                        <td id=\"T_1eee7710_8d5f_11eb_a752_0242ac1c0002row9_col0\" class=\"data row9 col0\" >{'max_df': 0.3, 'min_df': 0.02}</td>\n",
       "                        <td id=\"T_1eee7710_8d5f_11eb_a752_0242ac1c0002row9_col1\" class=\"data row9 col1\" >0.347812</td>\n",
       "                        <td id=\"T_1eee7710_8d5f_11eb_a752_0242ac1c0002row9_col2\" class=\"data row9 col2\" >0.358142</td>\n",
       "            </tr>\n",
       "            <tr>\n",
       "                        <th id=\"T_1eee7710_8d5f_11eb_a752_0242ac1c0002level0_row10\" class=\"row_heading level0 row10\" >20</th>\n",
       "                        <td id=\"T_1eee7710_8d5f_11eb_a752_0242ac1c0002row10_col0\" class=\"data row10 col0\" >{'max_df': 0.5, 'min_df': 0.02}</td>\n",
       "                        <td id=\"T_1eee7710_8d5f_11eb_a752_0242ac1c0002row10_col1\" class=\"data row10 col1\" >0.347812</td>\n",
       "                        <td id=\"T_1eee7710_8d5f_11eb_a752_0242ac1c0002row10_col2\" class=\"data row10 col2\" >0.358142</td>\n",
       "            </tr>\n",
       "            <tr>\n",
       "                        <th id=\"T_1eee7710_8d5f_11eb_a752_0242ac1c0002level0_row11\" class=\"row_heading level0 row11\" >2</th>\n",
       "                        <td id=\"T_1eee7710_8d5f_11eb_a752_0242ac1c0002row11_col0\" class=\"data row11 col0\" >{'max_df': 0.2, 'min_df': 0.02}</td>\n",
       "                        <td id=\"T_1eee7710_8d5f_11eb_a752_0242ac1c0002row11_col1\" class=\"data row11 col1\" >0.344982</td>\n",
       "                        <td id=\"T_1eee7710_8d5f_11eb_a752_0242ac1c0002row11_col2\" class=\"data row11 col2\" >0.353763</td>\n",
       "            </tr>\n",
       "            <tr>\n",
       "                        <th id=\"T_1eee7710_8d5f_11eb_a752_0242ac1c0002level0_row12\" class=\"row_heading level0 row12\" >9</th>\n",
       "                        <td id=\"T_1eee7710_8d5f_11eb_a752_0242ac1c0002row12_col0\" class=\"data row12 col0\" >{'max_df': 0.3, 'min_df': 0.03}</td>\n",
       "                        <td id=\"T_1eee7710_8d5f_11eb_a752_0242ac1c0002row12_col1\" class=\"data row12 col1\" >0.328485</td>\n",
       "                        <td id=\"T_1eee7710_8d5f_11eb_a752_0242ac1c0002row12_col2\" class=\"data row12 col2\" >0.337257</td>\n",
       "            </tr>\n",
       "            <tr>\n",
       "                        <th id=\"T_1eee7710_8d5f_11eb_a752_0242ac1c0002level0_row13\" class=\"row_heading level0 row13\" >21</th>\n",
       "                        <td id=\"T_1eee7710_8d5f_11eb_a752_0242ac1c0002row13_col0\" class=\"data row13 col0\" >{'max_df': 0.5, 'min_df': 0.03}</td>\n",
       "                        <td id=\"T_1eee7710_8d5f_11eb_a752_0242ac1c0002row13_col1\" class=\"data row13 col1\" >0.328485</td>\n",
       "                        <td id=\"T_1eee7710_8d5f_11eb_a752_0242ac1c0002row13_col2\" class=\"data row13 col2\" >0.337257</td>\n",
       "            </tr>\n",
       "            <tr>\n",
       "                        <th id=\"T_1eee7710_8d5f_11eb_a752_0242ac1c0002level0_row14\" class=\"row_heading level0 row14\" >15</th>\n",
       "                        <td id=\"T_1eee7710_8d5f_11eb_a752_0242ac1c0002row14_col0\" class=\"data row14 col0\" >{'max_df': 0.4, 'min_df': 0.03}</td>\n",
       "                        <td id=\"T_1eee7710_8d5f_11eb_a752_0242ac1c0002row14_col1\" class=\"data row14 col1\" >0.328485</td>\n",
       "                        <td id=\"T_1eee7710_8d5f_11eb_a752_0242ac1c0002row14_col2\" class=\"data row14 col2\" >0.337257</td>\n",
       "            </tr>\n",
       "            <tr>\n",
       "                        <th id=\"T_1eee7710_8d5f_11eb_a752_0242ac1c0002level0_row15\" class=\"row_heading level0 row15\" >3</th>\n",
       "                        <td id=\"T_1eee7710_8d5f_11eb_a752_0242ac1c0002row15_col0\" class=\"data row15 col0\" >{'max_df': 0.2, 'min_df': 0.03}</td>\n",
       "                        <td id=\"T_1eee7710_8d5f_11eb_a752_0242ac1c0002row15_col1\" class=\"data row15 col1\" >0.322725</td>\n",
       "                        <td id=\"T_1eee7710_8d5f_11eb_a752_0242ac1c0002row15_col2\" class=\"data row15 col2\" >0.330254</td>\n",
       "            </tr>\n",
       "            <tr>\n",
       "                        <th id=\"T_1eee7710_8d5f_11eb_a752_0242ac1c0002level0_row16\" class=\"row_heading level0 row16\" >10</th>\n",
       "                        <td id=\"T_1eee7710_8d5f_11eb_a752_0242ac1c0002row16_col0\" class=\"data row16 col0\" >{'max_df': 0.3, 'min_df': 0.04}</td>\n",
       "                        <td id=\"T_1eee7710_8d5f_11eb_a752_0242ac1c0002row16_col1\" class=\"data row16 col1\" >0.305960</td>\n",
       "                        <td id=\"T_1eee7710_8d5f_11eb_a752_0242ac1c0002row16_col2\" class=\"data row16 col2\" >0.316219</td>\n",
       "            </tr>\n",
       "            <tr>\n",
       "                        <th id=\"T_1eee7710_8d5f_11eb_a752_0242ac1c0002level0_row17\" class=\"row_heading level0 row17\" >22</th>\n",
       "                        <td id=\"T_1eee7710_8d5f_11eb_a752_0242ac1c0002row17_col0\" class=\"data row17 col0\" >{'max_df': 0.5, 'min_df': 0.04}</td>\n",
       "                        <td id=\"T_1eee7710_8d5f_11eb_a752_0242ac1c0002row17_col1\" class=\"data row17 col1\" >0.305960</td>\n",
       "                        <td id=\"T_1eee7710_8d5f_11eb_a752_0242ac1c0002row17_col2\" class=\"data row17 col2\" >0.316219</td>\n",
       "            </tr>\n",
       "            <tr>\n",
       "                        <th id=\"T_1eee7710_8d5f_11eb_a752_0242ac1c0002level0_row18\" class=\"row_heading level0 row18\" >16</th>\n",
       "                        <td id=\"T_1eee7710_8d5f_11eb_a752_0242ac1c0002row18_col0\" class=\"data row18 col0\" >{'max_df': 0.4, 'min_df': 0.04}</td>\n",
       "                        <td id=\"T_1eee7710_8d5f_11eb_a752_0242ac1c0002row18_col1\" class=\"data row18 col1\" >0.305960</td>\n",
       "                        <td id=\"T_1eee7710_8d5f_11eb_a752_0242ac1c0002row18_col2\" class=\"data row18 col2\" >0.316219</td>\n",
       "            </tr>\n",
       "            <tr>\n",
       "                        <th id=\"T_1eee7710_8d5f_11eb_a752_0242ac1c0002level0_row19\" class=\"row_heading level0 row19\" >4</th>\n",
       "                        <td id=\"T_1eee7710_8d5f_11eb_a752_0242ac1c0002row19_col0\" class=\"data row19 col0\" >{'max_df': 0.2, 'min_df': 0.04}</td>\n",
       "                        <td id=\"T_1eee7710_8d5f_11eb_a752_0242ac1c0002row19_col1\" class=\"data row19 col1\" >0.300806</td>\n",
       "                        <td id=\"T_1eee7710_8d5f_11eb_a752_0242ac1c0002row19_col2\" class=\"data row19 col2\" >0.308518</td>\n",
       "            </tr>\n",
       "            <tr>\n",
       "                        <th id=\"T_1eee7710_8d5f_11eb_a752_0242ac1c0002level0_row20\" class=\"row_heading level0 row20\" >17</th>\n",
       "                        <td id=\"T_1eee7710_8d5f_11eb_a752_0242ac1c0002row20_col0\" class=\"data row20 col0\" >{'max_df': 0.4, 'min_df': 0.05}</td>\n",
       "                        <td id=\"T_1eee7710_8d5f_11eb_a752_0242ac1c0002row20_col1\" class=\"data row20 col1\" >0.291420</td>\n",
       "                        <td id=\"T_1eee7710_8d5f_11eb_a752_0242ac1c0002row20_col2\" class=\"data row20 col2\" >0.299345</td>\n",
       "            </tr>\n",
       "            <tr>\n",
       "                        <th id=\"T_1eee7710_8d5f_11eb_a752_0242ac1c0002level0_row21\" class=\"row_heading level0 row21\" >11</th>\n",
       "                        <td id=\"T_1eee7710_8d5f_11eb_a752_0242ac1c0002row21_col0\" class=\"data row21 col0\" >{'max_df': 0.3, 'min_df': 0.05}</td>\n",
       "                        <td id=\"T_1eee7710_8d5f_11eb_a752_0242ac1c0002row21_col1\" class=\"data row21 col1\" >0.291420</td>\n",
       "                        <td id=\"T_1eee7710_8d5f_11eb_a752_0242ac1c0002row21_col2\" class=\"data row21 col2\" >0.299345</td>\n",
       "            </tr>\n",
       "            <tr>\n",
       "                        <th id=\"T_1eee7710_8d5f_11eb_a752_0242ac1c0002level0_row22\" class=\"row_heading level0 row22\" >23</th>\n",
       "                        <td id=\"T_1eee7710_8d5f_11eb_a752_0242ac1c0002row22_col0\" class=\"data row22 col0\" >{'max_df': 0.5, 'min_df': 0.05}</td>\n",
       "                        <td id=\"T_1eee7710_8d5f_11eb_a752_0242ac1c0002row22_col1\" class=\"data row22 col1\" >0.291420</td>\n",
       "                        <td id=\"T_1eee7710_8d5f_11eb_a752_0242ac1c0002row22_col2\" class=\"data row22 col2\" >0.299345</td>\n",
       "            </tr>\n",
       "            <tr>\n",
       "                        <th id=\"T_1eee7710_8d5f_11eb_a752_0242ac1c0002level0_row23\" class=\"row_heading level0 row23\" >5</th>\n",
       "                        <td id=\"T_1eee7710_8d5f_11eb_a752_0242ac1c0002row23_col0\" class=\"data row23 col0\" >{'max_df': 0.2, 'min_df': 0.05}</td>\n",
       "                        <td id=\"T_1eee7710_8d5f_11eb_a752_0242ac1c0002row23_col1\" class=\"data row23 col1\" >0.282809</td>\n",
       "                        <td id=\"T_1eee7710_8d5f_11eb_a752_0242ac1c0002row23_col2\" class=\"data row23 col2\" >0.289639</td>\n",
       "            </tr>\n",
       "    </tbody></table>"
      ],
      "text/plain": [
       "<pandas.io.formats.style.Styler at 0x7f1f2ea03590>"
      ]
     },
     "execution_count": 23,
     "metadata": {
      "tags": []
     },
     "output_type": "execute_result"
    }
   ],
   "source": [
    "results = pd.DataFrame(results)\n",
    "\n",
    "(results\n",
    " .sort_values('f1_valid', ascending=False)\n",
    " .style.bar(vmin=0, vmax=1)\n",
    ")"
   ]
  },
  {
   "cell_type": "markdown",
   "metadata": {
    "id": "z_oMZ_3rJYnx"
   },
   "source": [
    "При max_df=0.2 и min_df=0 значение F1-меры модели логистической регрессии незначительно превышает 0.75 на валидационной выборке."
   ]
  },
  {
   "cell_type": "markdown",
   "metadata": {
    "id": "SCKjs4w-J4aF"
   },
   "source": [
    "Обновим признаки с учетом новых параметров:"
   ]
  },
  {
   "cell_type": "code",
   "execution_count": 24,
   "metadata": {
    "id": "u9r0HS6-Dbc2"
   },
   "outputs": [],
   "source": [
    "count_tf_idf = TfidfVectorizer(token_pattern=r'[A-Za-z]{2,}', stop_words='english', min_df=0, max_df=0.2)\n",
    "\n",
    "count_tf_idf.fit(corpus_train)\n",
    "\n",
    "X_train = count_tf_idf.transform(corpus_train)\n",
    "X_valid = count_tf_idf.transform(corpus_valid)\n",
    "X_test = count_tf_idf.transform(corpus_test)"
   ]
  },
  {
   "cell_type": "code",
   "execution_count": 25,
   "metadata": {
    "colab": {
     "base_uri": "https://localhost:8080/"
    },
    "id": "MkRafoJzsk3b",
    "outputId": "bf560f0c-e4b0-40a5-aaf4-a2fcaf3acf7e"
   },
   "outputs": [
    {
     "name": "stdout",
     "output_type": "stream",
     "text": [
      "F1-score на обучающей выборке:  0.8422522522522522\n",
      "F1-score на валидационной выборке:  0.753302201467645\n"
     ]
    }
   ],
   "source": [
    "lr = LogisticRegression(random_state=12345, class_weight='balanced')\n",
    "\n",
    "lr.fit(X_train, y_train)\n",
    "\n",
    "pred_train = lr.predict(X_train)\n",
    "pred_valid = lr.predict(X_valid)\n",
    "\n",
    "print('F1-score на обучающей выборке: ', f1_score(y_train, pred_train))\n",
    "print('F1-score на валидационной выборке: ', f1_score(y_valid, pred_valid))"
   ]
  },
  {
   "cell_type": "markdown",
   "metadata": {
    "id": "7e43OSnwKCGA"
   },
   "source": [
    "Попробуем ещё увеличить значение целевой метрики, изменив порог классификации."
   ]
  },
  {
   "cell_type": "code",
   "execution_count": 27,
   "metadata": {
    "id": "1YVi-qr74hTh"
   },
   "outputs": [],
   "source": [
    "prob_train = lr.predict_proba(X_train)\n",
    "prob_valid = lr.predict_proba(X_valid)\n",
    "\n",
    "prob_one_train = prob_train[:, 1]\n",
    "prob_one_valid = prob_valid[:, 1]"
   ]
  },
  {
   "cell_type": "code",
   "execution_count": 40,
   "metadata": {
    "colab": {
     "base_uri": "https://localhost:8080/"
    },
    "id": "rf1KQD1K3KoK",
    "outputId": "0555dd7d-b1ae-424b-aec9-0cfbb124165c"
   },
   "outputs": [
    {
     "name": "stderr",
     "output_type": "stream",
     "text": [
      "100%|██████████| 80/80 [00:04<00:00, 18.35it/s]\n"
     ]
    }
   ],
   "source": [
    "results = []\n",
    "for threshold in tqdm(np.arange(0.1, 0.9, 0.01)):\n",
    "  \n",
    "  pred_train = prob_one_train > threshold\n",
    "  pred_valid = prob_one_valid > threshold\n",
    "\n",
    "  results.append(dict(\n",
    "    threshold=threshold,\n",
    "    f1_train = f1_score(y_train, pred_train),\n",
    "    f1_valid = f1_score(y_valid, pred_valid),\n",
    "  ))"
   ]
  },
  {
   "cell_type": "code",
   "execution_count": 42,
   "metadata": {
    "colab": {
     "base_uri": "https://localhost:8080/",
     "height": 438
    },
    "id": "5BCEyFHj56A4",
    "outputId": "ec8d26ae-f45a-4e1f-e1c9-6bdd541d7ac0"
   },
   "outputs": [
    {
     "data": {
      "text/html": [
       "<style  type=\"text/css\" >\n",
       "#T_a571b50a_8d63_11eb_a752_0242ac1c0002row0_col0{\n",
       "            width:  10em;\n",
       "             height:  80%;\n",
       "            background:  linear-gradient(90deg,#d65f5f 71.0%, transparent 71.0%);\n",
       "        }#T_a571b50a_8d63_11eb_a752_0242ac1c0002row0_col1{\n",
       "            width:  10em;\n",
       "             height:  80%;\n",
       "            background:  linear-gradient(90deg,#d65f5f 85.1%, transparent 85.1%);\n",
       "        }#T_a571b50a_8d63_11eb_a752_0242ac1c0002row0_col2,#T_a571b50a_8d63_11eb_a752_0242ac1c0002row1_col2,#T_a571b50a_8d63_11eb_a752_0242ac1c0002row2_col2,#T_a571b50a_8d63_11eb_a752_0242ac1c0002row3_col2{\n",
       "            width:  10em;\n",
       "             height:  80%;\n",
       "            background:  linear-gradient(90deg,#d65f5f 78.4%, transparent 78.4%);\n",
       "        }#T_a571b50a_8d63_11eb_a752_0242ac1c0002row1_col0{\n",
       "            width:  10em;\n",
       "             height:  80%;\n",
       "            background:  linear-gradient(90deg,#d65f5f 73.0%, transparent 73.0%);\n",
       "        }#T_a571b50a_8d63_11eb_a752_0242ac1c0002row1_col1{\n",
       "            width:  10em;\n",
       "             height:  80%;\n",
       "            background:  linear-gradient(90deg,#d65f5f 84.6%, transparent 84.6%);\n",
       "        }#T_a571b50a_8d63_11eb_a752_0242ac1c0002row2_col0{\n",
       "            width:  10em;\n",
       "             height:  80%;\n",
       "            background:  linear-gradient(90deg,#d65f5f 72.0%, transparent 72.0%);\n",
       "        }#T_a571b50a_8d63_11eb_a752_0242ac1c0002row2_col1{\n",
       "            width:  10em;\n",
       "             height:  80%;\n",
       "            background:  linear-gradient(90deg,#d65f5f 84.8%, transparent 84.8%);\n",
       "        }#T_a571b50a_8d63_11eb_a752_0242ac1c0002row3_col0{\n",
       "            width:  10em;\n",
       "             height:  80%;\n",
       "            background:  linear-gradient(90deg,#d65f5f 74.0%, transparent 74.0%);\n",
       "        }#T_a571b50a_8d63_11eb_a752_0242ac1c0002row3_col1{\n",
       "            width:  10em;\n",
       "             height:  80%;\n",
       "            background:  linear-gradient(90deg,#d65f5f 84.2%, transparent 84.2%);\n",
       "        }#T_a571b50a_8d63_11eb_a752_0242ac1c0002row4_col0{\n",
       "            width:  10em;\n",
       "             height:  80%;\n",
       "            background:  linear-gradient(90deg,#d65f5f 70.0%, transparent 70.0%);\n",
       "        }#T_a571b50a_8d63_11eb_a752_0242ac1c0002row4_col1{\n",
       "            width:  10em;\n",
       "             height:  80%;\n",
       "            background:  linear-gradient(90deg,#d65f5f 85.4%, transparent 85.4%);\n",
       "        }#T_a571b50a_8d63_11eb_a752_0242ac1c0002row4_col2{\n",
       "            width:  10em;\n",
       "             height:  80%;\n",
       "            background:  linear-gradient(90deg,#d65f5f 78.3%, transparent 78.3%);\n",
       "        }#T_a571b50a_8d63_11eb_a752_0242ac1c0002row5_col0{\n",
       "            width:  10em;\n",
       "             height:  80%;\n",
       "            background:  linear-gradient(90deg,#d65f5f 69.0%, transparent 69.0%);\n",
       "        }#T_a571b50a_8d63_11eb_a752_0242ac1c0002row5_col1{\n",
       "            width:  10em;\n",
       "             height:  80%;\n",
       "            background:  linear-gradient(90deg,#d65f5f 85.8%, transparent 85.8%);\n",
       "        }#T_a571b50a_8d63_11eb_a752_0242ac1c0002row5_col2,#T_a571b50a_8d63_11eb_a752_0242ac1c0002row6_col2{\n",
       "            width:  10em;\n",
       "             height:  80%;\n",
       "            background:  linear-gradient(90deg,#d65f5f 78.2%, transparent 78.2%);\n",
       "        }#T_a571b50a_8d63_11eb_a752_0242ac1c0002row6_col0{\n",
       "            width:  10em;\n",
       "             height:  80%;\n",
       "            background:  linear-gradient(90deg,#d65f5f 75.0%, transparent 75.0%);\n",
       "        }#T_a571b50a_8d63_11eb_a752_0242ac1c0002row6_col1{\n",
       "            width:  10em;\n",
       "             height:  80%;\n",
       "            background:  linear-gradient(90deg,#d65f5f 83.8%, transparent 83.8%);\n",
       "        }#T_a571b50a_8d63_11eb_a752_0242ac1c0002row7_col0{\n",
       "            width:  10em;\n",
       "             height:  80%;\n",
       "            background:  linear-gradient(90deg,#d65f5f 76.0%, transparent 76.0%);\n",
       "        }#T_a571b50a_8d63_11eb_a752_0242ac1c0002row7_col1{\n",
       "            width:  10em;\n",
       "             height:  80%;\n",
       "            background:  linear-gradient(90deg,#d65f5f 83.4%, transparent 83.4%);\n",
       "        }#T_a571b50a_8d63_11eb_a752_0242ac1c0002row7_col2,#T_a571b50a_8d63_11eb_a752_0242ac1c0002row8_col2,#T_a571b50a_8d63_11eb_a752_0242ac1c0002row9_col2{\n",
       "            width:  10em;\n",
       "             height:  80%;\n",
       "            background:  linear-gradient(90deg,#d65f5f 78.1%, transparent 78.1%);\n",
       "        }#T_a571b50a_8d63_11eb_a752_0242ac1c0002row8_col0{\n",
       "            width:  10em;\n",
       "             height:  80%;\n",
       "            background:  linear-gradient(90deg,#d65f5f 68.0%, transparent 68.0%);\n",
       "        }#T_a571b50a_8d63_11eb_a752_0242ac1c0002row8_col1{\n",
       "            width:  10em;\n",
       "             height:  80%;\n",
       "            background:  linear-gradient(90deg,#d65f5f 86.1%, transparent 86.1%);\n",
       "        }#T_a571b50a_8d63_11eb_a752_0242ac1c0002row9_col0{\n",
       "            width:  10em;\n",
       "             height:  80%;\n",
       "            background:  linear-gradient(90deg,#d65f5f 67.0%, transparent 67.0%);\n",
       "        }#T_a571b50a_8d63_11eb_a752_0242ac1c0002row9_col1,#T_a571b50a_8d63_11eb_a752_0242ac1c0002row11_col1{\n",
       "            width:  10em;\n",
       "             height:  80%;\n",
       "            background:  linear-gradient(90deg,#d65f5f 86.4%, transparent 86.4%);\n",
       "        }#T_a571b50a_8d63_11eb_a752_0242ac1c0002row10_col0{\n",
       "            width:  10em;\n",
       "             height:  80%;\n",
       "            background:  linear-gradient(90deg,#d65f5f 64.0%, transparent 64.0%);\n",
       "        }#T_a571b50a_8d63_11eb_a752_0242ac1c0002row10_col1,#T_a571b50a_8d63_11eb_a752_0242ac1c0002row17_col1{\n",
       "            width:  10em;\n",
       "             height:  80%;\n",
       "            background:  linear-gradient(90deg,#d65f5f 86.7%, transparent 86.7%);\n",
       "        }#T_a571b50a_8d63_11eb_a752_0242ac1c0002row10_col2,#T_a571b50a_8d63_11eb_a752_0242ac1c0002row11_col2,#T_a571b50a_8d63_11eb_a752_0242ac1c0002row16_col0{\n",
       "            width:  10em;\n",
       "             height:  80%;\n",
       "            background:  linear-gradient(90deg,#d65f5f 78.0%, transparent 78.0%);\n",
       "        }#T_a571b50a_8d63_11eb_a752_0242ac1c0002row11_col0{\n",
       "            width:  10em;\n",
       "             height:  80%;\n",
       "            background:  linear-gradient(90deg,#d65f5f 66.0%, transparent 66.0%);\n",
       "        }#T_a571b50a_8d63_11eb_a752_0242ac1c0002row12_col0{\n",
       "            width:  10em;\n",
       "             height:  80%;\n",
       "            background:  linear-gradient(90deg,#d65f5f 65.0%, transparent 65.0%);\n",
       "        }#T_a571b50a_8d63_11eb_a752_0242ac1c0002row12_col1{\n",
       "            width:  10em;\n",
       "             height:  80%;\n",
       "            background:  linear-gradient(90deg,#d65f5f 86.5%, transparent 86.5%);\n",
       "        }#T_a571b50a_8d63_11eb_a752_0242ac1c0002row12_col2{\n",
       "            width:  10em;\n",
       "             height:  80%;\n",
       "            background:  linear-gradient(90deg,#d65f5f 77.9%, transparent 77.9%);\n",
       "        }#T_a571b50a_8d63_11eb_a752_0242ac1c0002row13_col0{\n",
       "            width:  10em;\n",
       "             height:  80%;\n",
       "            background:  linear-gradient(90deg,#d65f5f 77.0%, transparent 77.0%);\n",
       "        }#T_a571b50a_8d63_11eb_a752_0242ac1c0002row13_col1{\n",
       "            width:  10em;\n",
       "             height:  80%;\n",
       "            background:  linear-gradient(90deg,#d65f5f 82.9%, transparent 82.9%);\n",
       "        }#T_a571b50a_8d63_11eb_a752_0242ac1c0002row13_col2{\n",
       "            width:  10em;\n",
       "             height:  80%;\n",
       "            background:  linear-gradient(90deg,#d65f5f 77.8%, transparent 77.8%);\n",
       "        }#T_a571b50a_8d63_11eb_a752_0242ac1c0002row14_col0{\n",
       "            width:  10em;\n",
       "             height:  80%;\n",
       "            background:  linear-gradient(90deg,#d65f5f 63.0%, transparent 63.0%);\n",
       "        }#T_a571b50a_8d63_11eb_a752_0242ac1c0002row14_col1{\n",
       "            width:  10em;\n",
       "             height:  80%;\n",
       "            background:  linear-gradient(90deg,#d65f5f 86.8%, transparent 86.8%);\n",
       "        }#T_a571b50a_8d63_11eb_a752_0242ac1c0002row14_col2{\n",
       "            width:  10em;\n",
       "             height:  80%;\n",
       "            background:  linear-gradient(90deg,#d65f5f 77.7%, transparent 77.7%);\n",
       "        }#T_a571b50a_8d63_11eb_a752_0242ac1c0002row15_col0{\n",
       "            width:  10em;\n",
       "             height:  80%;\n",
       "            background:  linear-gradient(90deg,#d65f5f 62.0%, transparent 62.0%);\n",
       "        }#T_a571b50a_8d63_11eb_a752_0242ac1c0002row15_col1{\n",
       "            width:  10em;\n",
       "             height:  80%;\n",
       "            background:  linear-gradient(90deg,#d65f5f 86.9%, transparent 86.9%);\n",
       "        }#T_a571b50a_8d63_11eb_a752_0242ac1c0002row15_col2{\n",
       "            width:  10em;\n",
       "             height:  80%;\n",
       "            background:  linear-gradient(90deg,#d65f5f 77.6%, transparent 77.6%);\n",
       "        }#T_a571b50a_8d63_11eb_a752_0242ac1c0002row16_col1{\n",
       "            width:  10em;\n",
       "             height:  80%;\n",
       "            background:  linear-gradient(90deg,#d65f5f 82.4%, transparent 82.4%);\n",
       "        }#T_a571b50a_8d63_11eb_a752_0242ac1c0002row16_col2{\n",
       "            width:  10em;\n",
       "             height:  80%;\n",
       "            background:  linear-gradient(90deg,#d65f5f 77.5%, transparent 77.5%);\n",
       "        }#T_a571b50a_8d63_11eb_a752_0242ac1c0002row17_col0{\n",
       "            width:  10em;\n",
       "             height:  80%;\n",
       "            background:  linear-gradient(90deg,#d65f5f 61.0%, transparent 61.0%);\n",
       "        }#T_a571b50a_8d63_11eb_a752_0242ac1c0002row17_col2{\n",
       "            width:  10em;\n",
       "             height:  80%;\n",
       "            background:  linear-gradient(90deg,#d65f5f 77.4%, transparent 77.4%);\n",
       "        }#T_a571b50a_8d63_11eb_a752_0242ac1c0002row18_col0{\n",
       "            width:  10em;\n",
       "             height:  80%;\n",
       "            background:  linear-gradient(90deg,#d65f5f 60.0%, transparent 60.0%);\n",
       "        }#T_a571b50a_8d63_11eb_a752_0242ac1c0002row18_col1{\n",
       "            width:  10em;\n",
       "             height:  80%;\n",
       "            background:  linear-gradient(90deg,#d65f5f 86.6%, transparent 86.6%);\n",
       "        }#T_a571b50a_8d63_11eb_a752_0242ac1c0002row18_col2{\n",
       "            width:  10em;\n",
       "             height:  80%;\n",
       "            background:  linear-gradient(90deg,#d65f5f 77.3%, transparent 77.3%);\n",
       "        }#T_a571b50a_8d63_11eb_a752_0242ac1c0002row19_col0{\n",
       "            width:  10em;\n",
       "             height:  80%;\n",
       "            background:  linear-gradient(90deg,#d65f5f 79.0%, transparent 79.0%);\n",
       "        }#T_a571b50a_8d63_11eb_a752_0242ac1c0002row19_col1{\n",
       "            width:  10em;\n",
       "             height:  80%;\n",
       "            background:  linear-gradient(90deg,#d65f5f 81.8%, transparent 81.8%);\n",
       "        }#T_a571b50a_8d63_11eb_a752_0242ac1c0002row19_col2{\n",
       "            width:  10em;\n",
       "             height:  80%;\n",
       "            background:  linear-gradient(90deg,#d65f5f 77.2%, transparent 77.2%);\n",
       "        }</style><table id=\"T_a571b50a_8d63_11eb_a752_0242ac1c0002\" ><thead>    <tr>        <th class=\"blank level0\" ></th>        <th class=\"col_heading level0 col0\" >threshold</th>        <th class=\"col_heading level0 col1\" >f1_train</th>        <th class=\"col_heading level0 col2\" >f1_valid</th>    </tr></thead><tbody>\n",
       "                <tr>\n",
       "                        <th id=\"T_a571b50a_8d63_11eb_a752_0242ac1c0002level0_row0\" class=\"row_heading level0 row0\" >61</th>\n",
       "                        <td id=\"T_a571b50a_8d63_11eb_a752_0242ac1c0002row0_col0\" class=\"data row0 col0\" >0.710000</td>\n",
       "                        <td id=\"T_a571b50a_8d63_11eb_a752_0242ac1c0002row0_col1\" class=\"data row0 col1\" >0.850960</td>\n",
       "                        <td id=\"T_a571b50a_8d63_11eb_a752_0242ac1c0002row0_col2\" class=\"data row0 col2\" >0.784295</td>\n",
       "            </tr>\n",
       "            <tr>\n",
       "                        <th id=\"T_a571b50a_8d63_11eb_a752_0242ac1c0002level0_row1\" class=\"row_heading level0 row1\" >63</th>\n",
       "                        <td id=\"T_a571b50a_8d63_11eb_a752_0242ac1c0002row1_col0\" class=\"data row1 col0\" >0.730000</td>\n",
       "                        <td id=\"T_a571b50a_8d63_11eb_a752_0242ac1c0002row1_col1\" class=\"data row1 col1\" >0.846146</td>\n",
       "                        <td id=\"T_a571b50a_8d63_11eb_a752_0242ac1c0002row1_col2\" class=\"data row1 col2\" >0.783862</td>\n",
       "            </tr>\n",
       "            <tr>\n",
       "                        <th id=\"T_a571b50a_8d63_11eb_a752_0242ac1c0002level0_row2\" class=\"row_heading level0 row2\" >62</th>\n",
       "                        <td id=\"T_a571b50a_8d63_11eb_a752_0242ac1c0002row2_col0\" class=\"data row2 col0\" >0.720000</td>\n",
       "                        <td id=\"T_a571b50a_8d63_11eb_a752_0242ac1c0002row2_col1\" class=\"data row2 col1\" >0.847864</td>\n",
       "                        <td id=\"T_a571b50a_8d63_11eb_a752_0242ac1c0002row2_col2\" class=\"data row2 col2\" >0.783672</td>\n",
       "            </tr>\n",
       "            <tr>\n",
       "                        <th id=\"T_a571b50a_8d63_11eb_a752_0242ac1c0002level0_row3\" class=\"row_heading level0 row3\" >64</th>\n",
       "                        <td id=\"T_a571b50a_8d63_11eb_a752_0242ac1c0002row3_col0\" class=\"data row3 col0\" >0.740000</td>\n",
       "                        <td id=\"T_a571b50a_8d63_11eb_a752_0242ac1c0002row3_col1\" class=\"data row3 col1\" >0.842436</td>\n",
       "                        <td id=\"T_a571b50a_8d63_11eb_a752_0242ac1c0002row3_col2\" class=\"data row3 col2\" >0.783618</td>\n",
       "            </tr>\n",
       "            <tr>\n",
       "                        <th id=\"T_a571b50a_8d63_11eb_a752_0242ac1c0002level0_row4\" class=\"row_heading level0 row4\" >60</th>\n",
       "                        <td id=\"T_a571b50a_8d63_11eb_a752_0242ac1c0002row4_col0\" class=\"data row4 col0\" >0.700000</td>\n",
       "                        <td id=\"T_a571b50a_8d63_11eb_a752_0242ac1c0002row4_col1\" class=\"data row4 col1\" >0.854189</td>\n",
       "                        <td id=\"T_a571b50a_8d63_11eb_a752_0242ac1c0002row4_col2\" class=\"data row4 col2\" >0.783466</td>\n",
       "            </tr>\n",
       "            <tr>\n",
       "                        <th id=\"T_a571b50a_8d63_11eb_a752_0242ac1c0002level0_row5\" class=\"row_heading level0 row5\" >59</th>\n",
       "                        <td id=\"T_a571b50a_8d63_11eb_a752_0242ac1c0002row5_col0\" class=\"data row5 col0\" >0.690000</td>\n",
       "                        <td id=\"T_a571b50a_8d63_11eb_a752_0242ac1c0002row5_col1\" class=\"data row5 col1\" >0.858258</td>\n",
       "                        <td id=\"T_a571b50a_8d63_11eb_a752_0242ac1c0002row5_col2\" class=\"data row5 col2\" >0.782474</td>\n",
       "            </tr>\n",
       "            <tr>\n",
       "                        <th id=\"T_a571b50a_8d63_11eb_a752_0242ac1c0002level0_row6\" class=\"row_heading level0 row6\" >65</th>\n",
       "                        <td id=\"T_a571b50a_8d63_11eb_a752_0242ac1c0002row6_col0\" class=\"data row6 col0\" >0.750000</td>\n",
       "                        <td id=\"T_a571b50a_8d63_11eb_a752_0242ac1c0002row6_col1\" class=\"data row6 col1\" >0.838021</td>\n",
       "                        <td id=\"T_a571b50a_8d63_11eb_a752_0242ac1c0002row6_col2\" class=\"data row6 col2\" >0.782326</td>\n",
       "            </tr>\n",
       "            <tr>\n",
       "                        <th id=\"T_a571b50a_8d63_11eb_a752_0242ac1c0002level0_row7\" class=\"row_heading level0 row7\" >66</th>\n",
       "                        <td id=\"T_a571b50a_8d63_11eb_a752_0242ac1c0002row7_col0\" class=\"data row7 col0\" >0.760000</td>\n",
       "                        <td id=\"T_a571b50a_8d63_11eb_a752_0242ac1c0002row7_col1\" class=\"data row7 col1\" >0.834042</td>\n",
       "                        <td id=\"T_a571b50a_8d63_11eb_a752_0242ac1c0002row7_col2\" class=\"data row7 col2\" >0.781286</td>\n",
       "            </tr>\n",
       "            <tr>\n",
       "                        <th id=\"T_a571b50a_8d63_11eb_a752_0242ac1c0002level0_row8\" class=\"row_heading level0 row8\" >58</th>\n",
       "                        <td id=\"T_a571b50a_8d63_11eb_a752_0242ac1c0002row8_col0\" class=\"data row8 col0\" >0.680000</td>\n",
       "                        <td id=\"T_a571b50a_8d63_11eb_a752_0242ac1c0002row8_col1\" class=\"data row8 col1\" >0.860756</td>\n",
       "                        <td id=\"T_a571b50a_8d63_11eb_a752_0242ac1c0002row8_col2\" class=\"data row8 col2\" >0.780947</td>\n",
       "            </tr>\n",
       "            <tr>\n",
       "                        <th id=\"T_a571b50a_8d63_11eb_a752_0242ac1c0002level0_row9\" class=\"row_heading level0 row9\" >57</th>\n",
       "                        <td id=\"T_a571b50a_8d63_11eb_a752_0242ac1c0002row9_col0\" class=\"data row9 col0\" >0.670000</td>\n",
       "                        <td id=\"T_a571b50a_8d63_11eb_a752_0242ac1c0002row9_col1\" class=\"data row9 col1\" >0.863662</td>\n",
       "                        <td id=\"T_a571b50a_8d63_11eb_a752_0242ac1c0002row9_col2\" class=\"data row9 col2\" >0.780570</td>\n",
       "            </tr>\n",
       "            <tr>\n",
       "                        <th id=\"T_a571b50a_8d63_11eb_a752_0242ac1c0002level0_row10\" class=\"row_heading level0 row10\" >54</th>\n",
       "                        <td id=\"T_a571b50a_8d63_11eb_a752_0242ac1c0002row10_col0\" class=\"data row10 col0\" >0.640000</td>\n",
       "                        <td id=\"T_a571b50a_8d63_11eb_a752_0242ac1c0002row10_col1\" class=\"data row10 col1\" >0.866577</td>\n",
       "                        <td id=\"T_a571b50a_8d63_11eb_a752_0242ac1c0002row10_col2\" class=\"data row10 col2\" >0.779691</td>\n",
       "            </tr>\n",
       "            <tr>\n",
       "                        <th id=\"T_a571b50a_8d63_11eb_a752_0242ac1c0002level0_row11\" class=\"row_heading level0 row11\" >56</th>\n",
       "                        <td id=\"T_a571b50a_8d63_11eb_a752_0242ac1c0002row11_col0\" class=\"data row11 col0\" >0.660000</td>\n",
       "                        <td id=\"T_a571b50a_8d63_11eb_a752_0242ac1c0002row11_col1\" class=\"data row11 col1\" >0.864310</td>\n",
       "                        <td id=\"T_a571b50a_8d63_11eb_a752_0242ac1c0002row11_col2\" class=\"data row11 col2\" >0.779553</td>\n",
       "            </tr>\n",
       "            <tr>\n",
       "                        <th id=\"T_a571b50a_8d63_11eb_a752_0242ac1c0002level0_row12\" class=\"row_heading level0 row12\" >55</th>\n",
       "                        <td id=\"T_a571b50a_8d63_11eb_a752_0242ac1c0002row12_col0\" class=\"data row12 col0\" >0.650000</td>\n",
       "                        <td id=\"T_a571b50a_8d63_11eb_a752_0242ac1c0002row12_col1\" class=\"data row12 col1\" >0.864696</td>\n",
       "                        <td id=\"T_a571b50a_8d63_11eb_a752_0242ac1c0002row12_col2\" class=\"data row12 col2\" >0.779072</td>\n",
       "            </tr>\n",
       "            <tr>\n",
       "                        <th id=\"T_a571b50a_8d63_11eb_a752_0242ac1c0002level0_row13\" class=\"row_heading level0 row13\" >67</th>\n",
       "                        <td id=\"T_a571b50a_8d63_11eb_a752_0242ac1c0002row13_col0\" class=\"data row13 col0\" >0.770000</td>\n",
       "                        <td id=\"T_a571b50a_8d63_11eb_a752_0242ac1c0002row13_col1\" class=\"data row13 col1\" >0.828793</td>\n",
       "                        <td id=\"T_a571b50a_8d63_11eb_a752_0242ac1c0002row13_col2\" class=\"data row13 col2\" >0.778126</td>\n",
       "            </tr>\n",
       "            <tr>\n",
       "                        <th id=\"T_a571b50a_8d63_11eb_a752_0242ac1c0002level0_row14\" class=\"row_heading level0 row14\" >53</th>\n",
       "                        <td id=\"T_a571b50a_8d63_11eb_a752_0242ac1c0002row14_col0\" class=\"data row14 col0\" >0.630000</td>\n",
       "                        <td id=\"T_a571b50a_8d63_11eb_a752_0242ac1c0002row14_col1\" class=\"data row14 col1\" >0.867638</td>\n",
       "                        <td id=\"T_a571b50a_8d63_11eb_a752_0242ac1c0002row14_col2\" class=\"data row14 col2\" >0.777415</td>\n",
       "            </tr>\n",
       "            <tr>\n",
       "                        <th id=\"T_a571b50a_8d63_11eb_a752_0242ac1c0002level0_row15\" class=\"row_heading level0 row15\" >52</th>\n",
       "                        <td id=\"T_a571b50a_8d63_11eb_a752_0242ac1c0002row15_col0\" class=\"data row15 col0\" >0.620000</td>\n",
       "                        <td id=\"T_a571b50a_8d63_11eb_a752_0242ac1c0002row15_col1\" class=\"data row15 col1\" >0.868518</td>\n",
       "                        <td id=\"T_a571b50a_8d63_11eb_a752_0242ac1c0002row15_col2\" class=\"data row15 col2\" >0.775667</td>\n",
       "            </tr>\n",
       "            <tr>\n",
       "                        <th id=\"T_a571b50a_8d63_11eb_a752_0242ac1c0002level0_row16\" class=\"row_heading level0 row16\" >68</th>\n",
       "                        <td id=\"T_a571b50a_8d63_11eb_a752_0242ac1c0002row16_col0\" class=\"data row16 col0\" >0.780000</td>\n",
       "                        <td id=\"T_a571b50a_8d63_11eb_a752_0242ac1c0002row16_col1\" class=\"data row16 col1\" >0.823767</td>\n",
       "                        <td id=\"T_a571b50a_8d63_11eb_a752_0242ac1c0002row16_col2\" class=\"data row16 col2\" >0.774632</td>\n",
       "            </tr>\n",
       "            <tr>\n",
       "                        <th id=\"T_a571b50a_8d63_11eb_a752_0242ac1c0002level0_row17\" class=\"row_heading level0 row17\" >51</th>\n",
       "                        <td id=\"T_a571b50a_8d63_11eb_a752_0242ac1c0002row17_col0\" class=\"data row17 col0\" >0.610000</td>\n",
       "                        <td id=\"T_a571b50a_8d63_11eb_a752_0242ac1c0002row17_col1\" class=\"data row17 col1\" >0.867282</td>\n",
       "                        <td id=\"T_a571b50a_8d63_11eb_a752_0242ac1c0002row17_col2\" class=\"data row17 col2\" >0.774033</td>\n",
       "            </tr>\n",
       "            <tr>\n",
       "                        <th id=\"T_a571b50a_8d63_11eb_a752_0242ac1c0002level0_row18\" class=\"row_heading level0 row18\" >50</th>\n",
       "                        <td id=\"T_a571b50a_8d63_11eb_a752_0242ac1c0002row18_col0\" class=\"data row18 col0\" >0.600000</td>\n",
       "                        <td id=\"T_a571b50a_8d63_11eb_a752_0242ac1c0002row18_col1\" class=\"data row18 col1\" >0.866089</td>\n",
       "                        <td id=\"T_a571b50a_8d63_11eb_a752_0242ac1c0002row18_col2\" class=\"data row18 col2\" >0.772945</td>\n",
       "            </tr>\n",
       "            <tr>\n",
       "                        <th id=\"T_a571b50a_8d63_11eb_a752_0242ac1c0002level0_row19\" class=\"row_heading level0 row19\" >69</th>\n",
       "                        <td id=\"T_a571b50a_8d63_11eb_a752_0242ac1c0002row19_col0\" class=\"data row19 col0\" >0.790000</td>\n",
       "                        <td id=\"T_a571b50a_8d63_11eb_a752_0242ac1c0002row19_col1\" class=\"data row19 col1\" >0.817666</td>\n",
       "                        <td id=\"T_a571b50a_8d63_11eb_a752_0242ac1c0002row19_col2\" class=\"data row19 col2\" >0.772409</td>\n",
       "            </tr>\n",
       "    </tbody></table>"
      ],
      "text/plain": [
       "<pandas.io.formats.style.Styler at 0x7f1f2f65ca10>"
      ]
     },
     "execution_count": 42,
     "metadata": {
      "tags": []
     },
     "output_type": "execute_result"
    }
   ],
   "source": [
    "results = pd.DataFrame(results)\n",
    "\n",
    "results.sort_values('f1_valid', ascending=False).head(20).style.bar(vmin=0, vmax=1)"
   ]
  },
  {
   "cell_type": "markdown",
   "metadata": {
    "id": "hToWfCoaKXsM"
   },
   "source": [
    "Значение F1-меры на валидационной выборке превышает 0.78 при значении порога классификации 0.71.\n",
    "\n",
    "Перейдём к модели случайного леса."
   ]
  },
  {
   "cell_type": "code",
   "execution_count": 51,
   "metadata": {
    "colab": {
     "base_uri": "https://localhost:8080/"
    },
    "id": "k5AtBrKvDbaH",
    "outputId": "9faf3cfd-ceac-42aa-eb2b-0cc491cf5699"
   },
   "outputs": [
    {
     "name": "stdout",
     "output_type": "stream",
     "text": [
      "F1-score на обучающей выборке:  0.9980377982030363\n",
      "F1-score на валидационной выборке:  0.6790004141930139\n"
     ]
    }
   ],
   "source": [
    "dt = DecisionTreeClassifier(random_state=12345, class_weight='balanced')\n",
    "\n",
    "dt.fit(X_train, y_train)\n",
    "\n",
    "pred_train = dt.predict(X_train)\n",
    "pred_valid = dt.predict(X_valid)\n",
    "\n",
    "print('F1-score на обучающей выборке: ', f1_score(y_train, pred_train))\n",
    "print('F1-score на валидационной выборке: ', f1_score(y_valid, pred_valid))"
   ]
  },
  {
   "cell_type": "markdown",
   "metadata": {
    "id": "NcPrqcTiKqqu"
   },
   "source": [
    "F1 на валидационной выборке меньше требуемого значения 0.75, при этом модель явно перееобучена.\n",
    "\n",
    "Узнаем глубину полученной модели:"
   ]
  },
  {
   "cell_type": "code",
   "execution_count": 46,
   "metadata": {
    "colab": {
     "base_uri": "https://localhost:8080/"
    },
    "id": "xLzP4Y-88jD-",
    "outputId": "4eb51c11-9fd0-4de5-83b1-3c8a87a8f259"
   },
   "outputs": [
    {
     "data": {
      "text/plain": [
       "2049"
      ]
     },
     "execution_count": 46,
     "metadata": {
      "tags": []
     },
     "output_type": "execute_result"
    }
   ],
   "source": [
    "dt.get_depth()"
   ]
  },
  {
   "cell_type": "markdown",
   "metadata": {
    "id": "WswhbtdeK4sW"
   },
   "source": [
    "Чтобы избежать переобученности модели, ограничим максимальную глубину дерева:"
   ]
  },
  {
   "cell_type": "code",
   "execution_count": 52,
   "metadata": {
    "id": "uYKWRr0g38mb"
   },
   "outputs": [],
   "source": [
    "param_grid = dict(min_samples_split=[2], max_depth=[50, 100, 500, 1000, 1500])"
   ]
  },
  {
   "cell_type": "code",
   "execution_count": 55,
   "metadata": {
    "colab": {
     "base_uri": "https://localhost:8080/"
    },
    "id": "TTLoX6bV38h-",
    "outputId": "29955b9c-b4cb-458e-bd91-4d2d287bd0ee"
   },
   "outputs": [
    {
     "name": "stderr",
     "output_type": "stream",
     "text": [
      "100%|██████████| 5/5 [06:38<00:00, 79.61s/it]\n"
     ]
    }
   ],
   "source": [
    "results = []\n",
    "for params in tqdm(ParameterGrid(param_grid)):\n",
    "  dt = DecisionTreeClassifier(min_samples_split=params['min_samples_split'], max_depth=params['max_depth'], random_state=12345, class_weight='balanced')\n",
    "  dt.fit(X_train, y_train)\n",
    "\n",
    "  pred_train = dt.predict(X_train)\n",
    "  pred_valid = dt.predict(X_valid)\n",
    "\n",
    "  results.append(dict(\n",
    "    parameters=params,\n",
    "    f1_train = f1_score(y_true=y_train, y_pred=pred_train),\n",
    "    f1_valid = f1_score(y_true=y_valid, y_pred=pred_valid),\n",
    "  ))"
   ]
  },
  {
   "cell_type": "code",
   "execution_count": 56,
   "metadata": {
    "colab": {
     "base_uri": "https://localhost:8080/",
     "height": 138
    },
    "id": "2Vt4nseG38f2",
    "outputId": "8598d789-82a3-46e9-bf2a-5ad042e4d886"
   },
   "outputs": [
    {
     "data": {
      "text/html": [
       "<style  type=\"text/css\" >\n",
       "#T_e00f738a_8d6a_11eb_a752_0242ac1c0002row0_col1,#T_e00f738a_8d6a_11eb_a752_0242ac1c0002row3_col1{\n",
       "            width:  10em;\n",
       "             height:  80%;\n",
       "            background:  linear-gradient(90deg,#d65f5f 99.8%, transparent 99.8%);\n",
       "        }#T_e00f738a_8d6a_11eb_a752_0242ac1c0002row0_col2{\n",
       "            width:  10em;\n",
       "             height:  80%;\n",
       "            background:  linear-gradient(90deg,#d65f5f 67.8%, transparent 67.8%);\n",
       "        }#T_e00f738a_8d6a_11eb_a752_0242ac1c0002row1_col1{\n",
       "            width:  10em;\n",
       "             height:  80%;\n",
       "            background:  linear-gradient(90deg,#d65f5f 90.6%, transparent 90.6%);\n",
       "        }#T_e00f738a_8d6a_11eb_a752_0242ac1c0002row1_col2{\n",
       "            width:  10em;\n",
       "             height:  80%;\n",
       "            background:  linear-gradient(90deg,#d65f5f 67.6%, transparent 67.6%);\n",
       "        }#T_e00f738a_8d6a_11eb_a752_0242ac1c0002row2_col1{\n",
       "            width:  10em;\n",
       "             height:  80%;\n",
       "            background:  linear-gradient(90deg,#d65f5f 81.8%, transparent 81.8%);\n",
       "        }#T_e00f738a_8d6a_11eb_a752_0242ac1c0002row2_col2,#T_e00f738a_8d6a_11eb_a752_0242ac1c0002row3_col2{\n",
       "            width:  10em;\n",
       "             height:  80%;\n",
       "            background:  linear-gradient(90deg,#d65f5f 67.4%, transparent 67.4%);\n",
       "        }#T_e00f738a_8d6a_11eb_a752_0242ac1c0002row4_col1{\n",
       "            width:  10em;\n",
       "             height:  80%;\n",
       "            background:  linear-gradient(90deg,#d65f5f 99.6%, transparent 99.6%);\n",
       "        }#T_e00f738a_8d6a_11eb_a752_0242ac1c0002row4_col2{\n",
       "            width:  10em;\n",
       "             height:  80%;\n",
       "            background:  linear-gradient(90deg,#d65f5f 67.3%, transparent 67.3%);\n",
       "        }</style><table id=\"T_e00f738a_8d6a_11eb_a752_0242ac1c0002\" ><thead>    <tr>        <th class=\"blank level0\" ></th>        <th class=\"col_heading level0 col0\" >parameters</th>        <th class=\"col_heading level0 col1\" >f1_train</th>        <th class=\"col_heading level0 col2\" >f1_valid</th>    </tr></thead><tbody>\n",
       "                <tr>\n",
       "                        <th id=\"T_e00f738a_8d6a_11eb_a752_0242ac1c0002level0_row0\" class=\"row_heading level0 row0\" >4</th>\n",
       "                        <td id=\"T_e00f738a_8d6a_11eb_a752_0242ac1c0002row0_col0\" class=\"data row0 col0\" >{'max_depth': 1500, 'min_samples_split': 2}</td>\n",
       "                        <td id=\"T_e00f738a_8d6a_11eb_a752_0242ac1c0002row0_col1\" class=\"data row0 col1\" >0.998038</td>\n",
       "                        <td id=\"T_e00f738a_8d6a_11eb_a752_0242ac1c0002row0_col2\" class=\"data row0 col2\" >0.678414</td>\n",
       "            </tr>\n",
       "            <tr>\n",
       "                        <th id=\"T_e00f738a_8d6a_11eb_a752_0242ac1c0002level0_row1\" class=\"row_heading level0 row1\" >1</th>\n",
       "                        <td id=\"T_e00f738a_8d6a_11eb_a752_0242ac1c0002row1_col0\" class=\"data row1 col0\" >{'max_depth': 100, 'min_samples_split': 2}</td>\n",
       "                        <td id=\"T_e00f738a_8d6a_11eb_a752_0242ac1c0002row1_col1\" class=\"data row1 col1\" >0.906355</td>\n",
       "                        <td id=\"T_e00f738a_8d6a_11eb_a752_0242ac1c0002row1_col2\" class=\"data row1 col2\" >0.676488</td>\n",
       "            </tr>\n",
       "            <tr>\n",
       "                        <th id=\"T_e00f738a_8d6a_11eb_a752_0242ac1c0002level0_row2\" class=\"row_heading level0 row2\" >0</th>\n",
       "                        <td id=\"T_e00f738a_8d6a_11eb_a752_0242ac1c0002row2_col0\" class=\"data row2 col0\" >{'max_depth': 50, 'min_samples_split': 2}</td>\n",
       "                        <td id=\"T_e00f738a_8d6a_11eb_a752_0242ac1c0002row2_col1\" class=\"data row2 col1\" >0.818312</td>\n",
       "                        <td id=\"T_e00f738a_8d6a_11eb_a752_0242ac1c0002row2_col2\" class=\"data row2 col2\" >0.674147</td>\n",
       "            </tr>\n",
       "            <tr>\n",
       "                        <th id=\"T_e00f738a_8d6a_11eb_a752_0242ac1c0002level0_row3\" class=\"row_heading level0 row3\" >3</th>\n",
       "                        <td id=\"T_e00f738a_8d6a_11eb_a752_0242ac1c0002row3_col0\" class=\"data row3 col0\" >{'max_depth': 1000, 'min_samples_split': 2}</td>\n",
       "                        <td id=\"T_e00f738a_8d6a_11eb_a752_0242ac1c0002row3_col1\" class=\"data row3 col1\" >0.998038</td>\n",
       "                        <td id=\"T_e00f738a_8d6a_11eb_a752_0242ac1c0002row3_col2\" class=\"data row3 col2\" >0.673814</td>\n",
       "            </tr>\n",
       "            <tr>\n",
       "                        <th id=\"T_e00f738a_8d6a_11eb_a752_0242ac1c0002level0_row4\" class=\"row_heading level0 row4\" >2</th>\n",
       "                        <td id=\"T_e00f738a_8d6a_11eb_a752_0242ac1c0002row4_col0\" class=\"data row4 col0\" >{'max_depth': 500, 'min_samples_split': 2}</td>\n",
       "                        <td id=\"T_e00f738a_8d6a_11eb_a752_0242ac1c0002row4_col1\" class=\"data row4 col1\" >0.995909</td>\n",
       "                        <td id=\"T_e00f738a_8d6a_11eb_a752_0242ac1c0002row4_col2\" class=\"data row4 col2\" >0.672730</td>\n",
       "            </tr>\n",
       "    </tbody></table>"
      ],
      "text/plain": [
       "<pandas.io.formats.style.Styler at 0x7f1f2f5e4bd0>"
      ]
     },
     "execution_count": 56,
     "metadata": {
      "tags": []
     },
     "output_type": "execute_result"
    }
   ],
   "source": [
    "results = pd.DataFrame(results)\n",
    "\n",
    "results.sort_values('f1_valid', ascending=False).style.bar(vmin=0, vmax=1)"
   ]
  },
  {
   "cell_type": "markdown",
   "metadata": {
    "id": "ubpKbpjuLFx8"
   },
   "source": [
    "Значение метрики всё равно недостаточно велико.\n",
    "\n",
    "Перейдём к модели случайного леса."
   ]
  },
  {
   "cell_type": "code",
   "execution_count": 57,
   "metadata": {
    "id": "BV5VTRN1L1Xo"
   },
   "outputs": [],
   "source": [
    "param_grid = dict(n_estimators=[100, 200, 300], max_depth=[50, 100, 500])"
   ]
  },
  {
   "cell_type": "code",
   "execution_count": 61,
   "metadata": {
    "colab": {
     "base_uri": "https://localhost:8080/"
    },
    "id": "Dx6QUsR138dl",
    "outputId": "1487398c-6bbf-4265-efbd-e0e18d2a31ac"
   },
   "outputs": [
    {
     "name": "stderr",
     "output_type": "stream",
     "text": [
      "100%|██████████| 9/9 [1:11:27<00:00, 476.41s/it]\n"
     ]
    }
   ],
   "source": [
    "results = []\n",
    "for params in tqdm(ParameterGrid(param_grid)):\n",
    "  dt = RandomForestClassifier(n_estimators=params['n_estimators'], max_depth=params['max_depth'], random_state=12345, class_weight='balanced')\n",
    "  dt.fit(X_train, y_train)\n",
    "  results.append(dict(\n",
    "    parameters=params,\n",
    "    f1_train = f1_score(y_true=y_train, y_pred=dt.predict(X_train)),\n",
    "    f1_valid = f1_score(y_true=y_valid, y_pred=dt.predict(X_valid)),\n",
    "  ))"
   ]
  },
  {
   "cell_type": "code",
   "execution_count": 62,
   "metadata": {
    "colab": {
     "base_uri": "https://localhost:8080/",
     "height": 218
    },
    "id": "-7pS2PmlMOP1",
    "outputId": "da777d6c-7f64-4166-c7d2-04dc3df8bd23"
   },
   "outputs": [
    {
     "data": {
      "text/html": [
       "<style  type=\"text/css\" >\n",
       "#T_e7531fa6_8d75_11eb_a752_0242ac1c0002row0_col1,#T_e7531fa6_8d75_11eb_a752_0242ac1c0002row1_col1,#T_e7531fa6_8d75_11eb_a752_0242ac1c0002row2_col1{\n",
       "            width:  10em;\n",
       "             height:  80%;\n",
       "            background:  linear-gradient(90deg,#d65f5f 99.4%, transparent 99.4%);\n",
       "        }#T_e7531fa6_8d75_11eb_a752_0242ac1c0002row0_col2{\n",
       "            width:  10em;\n",
       "             height:  80%;\n",
       "            background:  linear-gradient(90deg,#d65f5f 67.2%, transparent 67.2%);\n",
       "        }#T_e7531fa6_8d75_11eb_a752_0242ac1c0002row1_col2{\n",
       "            width:  10em;\n",
       "             height:  80%;\n",
       "            background:  linear-gradient(90deg,#d65f5f 67.0%, transparent 67.0%);\n",
       "        }#T_e7531fa6_8d75_11eb_a752_0242ac1c0002row2_col2{\n",
       "            width:  10em;\n",
       "             height:  80%;\n",
       "            background:  linear-gradient(90deg,#d65f5f 66.9%, transparent 66.9%);\n",
       "        }#T_e7531fa6_8d75_11eb_a752_0242ac1c0002row3_col1{\n",
       "            width:  10em;\n",
       "             height:  80%;\n",
       "            background:  linear-gradient(90deg,#d65f5f 72.5%, transparent 72.5%);\n",
       "        }#T_e7531fa6_8d75_11eb_a752_0242ac1c0002row3_col2{\n",
       "            width:  10em;\n",
       "             height:  80%;\n",
       "            background:  linear-gradient(90deg,#d65f5f 55.7%, transparent 55.7%);\n",
       "        }#T_e7531fa6_8d75_11eb_a752_0242ac1c0002row4_col1,#T_e7531fa6_8d75_11eb_a752_0242ac1c0002row5_col1{\n",
       "            width:  10em;\n",
       "             height:  80%;\n",
       "            background:  linear-gradient(90deg,#d65f5f 72.4%, transparent 72.4%);\n",
       "        }#T_e7531fa6_8d75_11eb_a752_0242ac1c0002row4_col2{\n",
       "            width:  10em;\n",
       "             height:  80%;\n",
       "            background:  linear-gradient(90deg,#d65f5f 55.6%, transparent 55.6%);\n",
       "        }#T_e7531fa6_8d75_11eb_a752_0242ac1c0002row5_col2{\n",
       "            width:  10em;\n",
       "             height:  80%;\n",
       "            background:  linear-gradient(90deg,#d65f5f 55.3%, transparent 55.3%);\n",
       "        }#T_e7531fa6_8d75_11eb_a752_0242ac1c0002row6_col1{\n",
       "            width:  10em;\n",
       "             height:  80%;\n",
       "            background:  linear-gradient(90deg,#d65f5f 59.1%, transparent 59.1%);\n",
       "        }#T_e7531fa6_8d75_11eb_a752_0242ac1c0002row6_col2{\n",
       "            width:  10em;\n",
       "             height:  80%;\n",
       "            background:  linear-gradient(90deg,#d65f5f 50.2%, transparent 50.2%);\n",
       "        }#T_e7531fa6_8d75_11eb_a752_0242ac1c0002row7_col1{\n",
       "            width:  10em;\n",
       "             height:  80%;\n",
       "            background:  linear-gradient(90deg,#d65f5f 59.3%, transparent 59.3%);\n",
       "        }#T_e7531fa6_8d75_11eb_a752_0242ac1c0002row7_col2{\n",
       "            width:  10em;\n",
       "             height:  80%;\n",
       "            background:  linear-gradient(90deg,#d65f5f 50.1%, transparent 50.1%);\n",
       "        }#T_e7531fa6_8d75_11eb_a752_0242ac1c0002row8_col1{\n",
       "            width:  10em;\n",
       "             height:  80%;\n",
       "            background:  linear-gradient(90deg,#d65f5f 59.2%, transparent 59.2%);\n",
       "        }#T_e7531fa6_8d75_11eb_a752_0242ac1c0002row8_col2{\n",
       "            width:  10em;\n",
       "             height:  80%;\n",
       "            background:  linear-gradient(90deg,#d65f5f 49.9%, transparent 49.9%);\n",
       "        }</style><table id=\"T_e7531fa6_8d75_11eb_a752_0242ac1c0002\" ><thead>    <tr>        <th class=\"blank level0\" ></th>        <th class=\"col_heading level0 col0\" >parameters</th>        <th class=\"col_heading level0 col1\" >f1_train</th>        <th class=\"col_heading level0 col2\" >f1_valid</th>    </tr></thead><tbody>\n",
       "                <tr>\n",
       "                        <th id=\"T_e7531fa6_8d75_11eb_a752_0242ac1c0002level0_row0\" class=\"row_heading level0 row0\" >6</th>\n",
       "                        <td id=\"T_e7531fa6_8d75_11eb_a752_0242ac1c0002row0_col0\" class=\"data row0 col0\" >{'max_depth': 500, 'n_estimators': 100}</td>\n",
       "                        <td id=\"T_e7531fa6_8d75_11eb_a752_0242ac1c0002row0_col1\" class=\"data row0 col1\" >0.993822</td>\n",
       "                        <td id=\"T_e7531fa6_8d75_11eb_a752_0242ac1c0002row0_col2\" class=\"data row0 col2\" >0.671665</td>\n",
       "            </tr>\n",
       "            <tr>\n",
       "                        <th id=\"T_e7531fa6_8d75_11eb_a752_0242ac1c0002level0_row1\" class=\"row_heading level0 row1\" >8</th>\n",
       "                        <td id=\"T_e7531fa6_8d75_11eb_a752_0242ac1c0002row1_col0\" class=\"data row1 col0\" >{'max_depth': 500, 'n_estimators': 300}</td>\n",
       "                        <td id=\"T_e7531fa6_8d75_11eb_a752_0242ac1c0002row1_col1\" class=\"data row1 col1\" >0.993822</td>\n",
       "                        <td id=\"T_e7531fa6_8d75_11eb_a752_0242ac1c0002row1_col2\" class=\"data row1 col2\" >0.669877</td>\n",
       "            </tr>\n",
       "            <tr>\n",
       "                        <th id=\"T_e7531fa6_8d75_11eb_a752_0242ac1c0002level0_row2\" class=\"row_heading level0 row2\" >7</th>\n",
       "                        <td id=\"T_e7531fa6_8d75_11eb_a752_0242ac1c0002row2_col0\" class=\"data row2 col0\" >{'max_depth': 500, 'n_estimators': 200}</td>\n",
       "                        <td id=\"T_e7531fa6_8d75_11eb_a752_0242ac1c0002row2_col1\" class=\"data row2 col1\" >0.993928</td>\n",
       "                        <td id=\"T_e7531fa6_8d75_11eb_a752_0242ac1c0002row2_col2\" class=\"data row2 col2\" >0.669364</td>\n",
       "            </tr>\n",
       "            <tr>\n",
       "                        <th id=\"T_e7531fa6_8d75_11eb_a752_0242ac1c0002level0_row3\" class=\"row_heading level0 row3\" >4</th>\n",
       "                        <td id=\"T_e7531fa6_8d75_11eb_a752_0242ac1c0002row3_col0\" class=\"data row3 col0\" >{'max_depth': 100, 'n_estimators': 200}</td>\n",
       "                        <td id=\"T_e7531fa6_8d75_11eb_a752_0242ac1c0002row3_col1\" class=\"data row3 col1\" >0.725214</td>\n",
       "                        <td id=\"T_e7531fa6_8d75_11eb_a752_0242ac1c0002row3_col2\" class=\"data row3 col2\" >0.557194</td>\n",
       "            </tr>\n",
       "            <tr>\n",
       "                        <th id=\"T_e7531fa6_8d75_11eb_a752_0242ac1c0002level0_row4\" class=\"row_heading level0 row4\" >3</th>\n",
       "                        <td id=\"T_e7531fa6_8d75_11eb_a752_0242ac1c0002row4_col0\" class=\"data row4 col0\" >{'max_depth': 100, 'n_estimators': 100}</td>\n",
       "                        <td id=\"T_e7531fa6_8d75_11eb_a752_0242ac1c0002row4_col1\" class=\"data row4 col1\" >0.724256</td>\n",
       "                        <td id=\"T_e7531fa6_8d75_11eb_a752_0242ac1c0002row4_col2\" class=\"data row4 col2\" >0.556452</td>\n",
       "            </tr>\n",
       "            <tr>\n",
       "                        <th id=\"T_e7531fa6_8d75_11eb_a752_0242ac1c0002level0_row5\" class=\"row_heading level0 row5\" >5</th>\n",
       "                        <td id=\"T_e7531fa6_8d75_11eb_a752_0242ac1c0002row5_col0\" class=\"data row5 col0\" >{'max_depth': 100, 'n_estimators': 300}</td>\n",
       "                        <td id=\"T_e7531fa6_8d75_11eb_a752_0242ac1c0002row5_col1\" class=\"data row5 col1\" >0.723936</td>\n",
       "                        <td id=\"T_e7531fa6_8d75_11eb_a752_0242ac1c0002row5_col2\" class=\"data row5 col2\" >0.552990</td>\n",
       "            </tr>\n",
       "            <tr>\n",
       "                        <th id=\"T_e7531fa6_8d75_11eb_a752_0242ac1c0002level0_row6\" class=\"row_heading level0 row6\" >0</th>\n",
       "                        <td id=\"T_e7531fa6_8d75_11eb_a752_0242ac1c0002row6_col0\" class=\"data row6 col0\" >{'max_depth': 50, 'n_estimators': 100}</td>\n",
       "                        <td id=\"T_e7531fa6_8d75_11eb_a752_0242ac1c0002row6_col1\" class=\"data row6 col1\" >0.590877</td>\n",
       "                        <td id=\"T_e7531fa6_8d75_11eb_a752_0242ac1c0002row6_col2\" class=\"data row6 col2\" >0.502468</td>\n",
       "            </tr>\n",
       "            <tr>\n",
       "                        <th id=\"T_e7531fa6_8d75_11eb_a752_0242ac1c0002level0_row7\" class=\"row_heading level0 row7\" >1</th>\n",
       "                        <td id=\"T_e7531fa6_8d75_11eb_a752_0242ac1c0002row7_col0\" class=\"data row7 col0\" >{'max_depth': 50, 'n_estimators': 200}</td>\n",
       "                        <td id=\"T_e7531fa6_8d75_11eb_a752_0242ac1c0002row7_col1\" class=\"data row7 col1\" >0.593306</td>\n",
       "                        <td id=\"T_e7531fa6_8d75_11eb_a752_0242ac1c0002row7_col2\" class=\"data row7 col2\" >0.501303</td>\n",
       "            </tr>\n",
       "            <tr>\n",
       "                        <th id=\"T_e7531fa6_8d75_11eb_a752_0242ac1c0002level0_row8\" class=\"row_heading level0 row8\" >2</th>\n",
       "                        <td id=\"T_e7531fa6_8d75_11eb_a752_0242ac1c0002row8_col0\" class=\"data row8 col0\" >{'max_depth': 50, 'n_estimators': 300}</td>\n",
       "                        <td id=\"T_e7531fa6_8d75_11eb_a752_0242ac1c0002row8_col1\" class=\"data row8 col1\" >0.592093</td>\n",
       "                        <td id=\"T_e7531fa6_8d75_11eb_a752_0242ac1c0002row8_col2\" class=\"data row8 col2\" >0.498846</td>\n",
       "            </tr>\n",
       "    </tbody></table>"
      ],
      "text/plain": [
       "<pandas.io.formats.style.Styler at 0x7f1f2f5cab50>"
      ]
     },
     "execution_count": 62,
     "metadata": {
      "tags": []
     },
     "output_type": "execute_result"
    }
   ],
   "source": [
    "results = pd.DataFrame(results)\n",
    "\n",
    "results.sort_values('f1_valid', ascending=False).style.bar(vmin=0, vmax=1)"
   ]
  },
  {
   "cell_type": "markdown",
   "metadata": {
    "id": "oUhz6lPcLWUK"
   },
   "source": [
    "Значение метрики недостаточно велико."
   ]
  },
  {
   "cell_type": "markdown",
   "metadata": {
    "id": "2GPgf8hCLYlp"
   },
   "source": [
    "Построим модель градиентного бустинга."
   ]
  },
  {
   "cell_type": "code",
   "execution_count": 63,
   "metadata": {
    "id": "l2j5KAoqpKul"
   },
   "outputs": [],
   "source": [
    "def lgb_f1_score(y_true, y_pred):\n",
    "\n",
    "    return 'f1', f1_score(y_true, np.round(y_pred)), True"
   ]
  },
  {
   "cell_type": "code",
   "execution_count": 70,
   "metadata": {
    "colab": {
     "base_uri": "https://localhost:8080/"
    },
    "id": "4Sh6skywl7oy",
    "outputId": "5b7a6c01-abb8-4a44-ef04-5e9e60e311c5"
   },
   "outputs": [
    {
     "name": "stdout",
     "output_type": "stream",
     "text": [
      "[1]\tvalid_0's binary_logloss: 0.651451\tvalid_0's f1: 0.674304\n",
      "Training until validation scores don't improve for 20 rounds.\n",
      "[2]\tvalid_0's binary_logloss: 0.616221\tvalid_0's f1: 0.657388\n",
      "[3]\tvalid_0's binary_logloss: 0.585961\tvalid_0's f1: 0.682254\n",
      "[4]\tvalid_0's binary_logloss: 0.559851\tvalid_0's f1: 0.671474\n",
      "[5]\tvalid_0's binary_logloss: 0.537161\tvalid_0's f1: 0.692369\n",
      "[6]\tvalid_0's binary_logloss: 0.517644\tvalid_0's f1: 0.672758\n",
      "[7]\tvalid_0's binary_logloss: 0.499802\tvalid_0's f1: 0.675858\n",
      "[8]\tvalid_0's binary_logloss: 0.48391\tvalid_0's f1: 0.678626\n",
      "[9]\tvalid_0's binary_logloss: 0.469174\tvalid_0's f1: 0.7\n",
      "[10]\tvalid_0's binary_logloss: 0.456308\tvalid_0's f1: 0.70109\n",
      "[11]\tvalid_0's binary_logloss: 0.444908\tvalid_0's f1: 0.692168\n",
      "[12]\tvalid_0's binary_logloss: 0.434458\tvalid_0's f1: 0.693378\n",
      "[13]\tvalid_0's binary_logloss: 0.42471\tvalid_0's f1: 0.695089\n",
      "[14]\tvalid_0's binary_logloss: 0.416151\tvalid_0's f1: 0.692935\n",
      "[15]\tvalid_0's binary_logloss: 0.409073\tvalid_0's f1: 0.69489\n",
      "[16]\tvalid_0's binary_logloss: 0.401687\tvalid_0's f1: 0.697317\n",
      "[17]\tvalid_0's binary_logloss: 0.394664\tvalid_0's f1: 0.699593\n",
      "[18]\tvalid_0's binary_logloss: 0.388104\tvalid_0's f1: 0.700648\n",
      "[19]\tvalid_0's binary_logloss: 0.382245\tvalid_0's f1: 0.702435\n",
      "[20]\tvalid_0's binary_logloss: 0.377033\tvalid_0's f1: 0.699326\n",
      "[21]\tvalid_0's binary_logloss: 0.371535\tvalid_0's f1: 0.701535\n",
      "[22]\tvalid_0's binary_logloss: 0.366721\tvalid_0's f1: 0.704213\n",
      "[23]\tvalid_0's binary_logloss: 0.361836\tvalid_0's f1: 0.707038\n",
      "[24]\tvalid_0's binary_logloss: 0.357641\tvalid_0's f1: 0.706475\n",
      "[25]\tvalid_0's binary_logloss: 0.354142\tvalid_0's f1: 0.708617\n",
      "[26]\tvalid_0's binary_logloss: 0.349708\tvalid_0's f1: 0.711013\n",
      "[27]\tvalid_0's binary_logloss: 0.345836\tvalid_0's f1: 0.711374\n",
      "[28]\tvalid_0's binary_logloss: 0.342632\tvalid_0's f1: 0.713295\n",
      "[29]\tvalid_0's binary_logloss: 0.339114\tvalid_0's f1: 0.714139\n",
      "[30]\tvalid_0's binary_logloss: 0.33539\tvalid_0's f1: 0.716278\n",
      "[31]\tvalid_0's binary_logloss: 0.332426\tvalid_0's f1: 0.717544\n",
      "[32]\tvalid_0's binary_logloss: 0.329493\tvalid_0's f1: 0.717274\n",
      "[33]\tvalid_0's binary_logloss: 0.326702\tvalid_0's f1: 0.719953\n",
      "[34]\tvalid_0's binary_logloss: 0.32385\tvalid_0's f1: 0.72168\n",
      "[35]\tvalid_0's binary_logloss: 0.321394\tvalid_0's f1: 0.721617\n",
      "[36]\tvalid_0's binary_logloss: 0.319228\tvalid_0's f1: 0.721754\n",
      "[37]\tvalid_0's binary_logloss: 0.316652\tvalid_0's f1: 0.72162\n",
      "[38]\tvalid_0's binary_logloss: 0.314257\tvalid_0's f1: 0.722912\n",
      "[39]\tvalid_0's binary_logloss: 0.312021\tvalid_0's f1: 0.722672\n",
      "[40]\tvalid_0's binary_logloss: 0.309861\tvalid_0's f1: 0.724675\n",
      "[41]\tvalid_0's binary_logloss: 0.30765\tvalid_0's f1: 0.723796\n",
      "[42]\tvalid_0's binary_logloss: 0.305822\tvalid_0's f1: 0.724742\n",
      "[43]\tvalid_0's binary_logloss: 0.303526\tvalid_0's f1: 0.72597\n",
      "[44]\tvalid_0's binary_logloss: 0.302076\tvalid_0's f1: 0.726492\n",
      "[45]\tvalid_0's binary_logloss: 0.299895\tvalid_0's f1: 0.726987\n",
      "[46]\tvalid_0's binary_logloss: 0.298159\tvalid_0's f1: 0.727792\n",
      "[47]\tvalid_0's binary_logloss: 0.296475\tvalid_0's f1: 0.728182\n",
      "[48]\tvalid_0's binary_logloss: 0.294945\tvalid_0's f1: 0.728804\n",
      "[49]\tvalid_0's binary_logloss: 0.293351\tvalid_0's f1: 0.730412\n",
      "[50]\tvalid_0's binary_logloss: 0.291842\tvalid_0's f1: 0.730408\n",
      "[51]\tvalid_0's binary_logloss: 0.290283\tvalid_0's f1: 0.731492\n",
      "[52]\tvalid_0's binary_logloss: 0.288738\tvalid_0's f1: 0.73231\n",
      "[53]\tvalid_0's binary_logloss: 0.287438\tvalid_0's f1: 0.732699\n",
      "[54]\tvalid_0's binary_logloss: 0.286039\tvalid_0's f1: 0.733125\n",
      "[55]\tvalid_0's binary_logloss: 0.284568\tvalid_0's f1: 0.734919\n",
      "[56]\tvalid_0's binary_logloss: 0.28296\tvalid_0's f1: 0.734613\n",
      "[57]\tvalid_0's binary_logloss: 0.281519\tvalid_0's f1: 0.734941\n",
      "[58]\tvalid_0's binary_logloss: 0.280478\tvalid_0's f1: 0.736011\n",
      "[59]\tvalid_0's binary_logloss: 0.279409\tvalid_0's f1: 0.737035\n",
      "[60]\tvalid_0's binary_logloss: 0.278075\tvalid_0's f1: 0.737124\n",
      "[61]\tvalid_0's binary_logloss: 0.276938\tvalid_0's f1: 0.736709\n",
      "[62]\tvalid_0's binary_logloss: 0.275776\tvalid_0's f1: 0.737831\n",
      "[63]\tvalid_0's binary_logloss: 0.274761\tvalid_0's f1: 0.738552\n",
      "[64]\tvalid_0's binary_logloss: 0.27361\tvalid_0's f1: 0.738802\n",
      "[65]\tvalid_0's binary_logloss: 0.272488\tvalid_0's f1: 0.738109\n",
      "[66]\tvalid_0's binary_logloss: 0.271457\tvalid_0's f1: 0.737709\n",
      "[67]\tvalid_0's binary_logloss: 0.270257\tvalid_0's f1: 0.738032\n",
      "[68]\tvalid_0's binary_logloss: 0.269122\tvalid_0's f1: 0.738208\n",
      "[69]\tvalid_0's binary_logloss: 0.268292\tvalid_0's f1: 0.738059\n",
      "[70]\tvalid_0's binary_logloss: 0.267256\tvalid_0's f1: 0.738822\n",
      "[71]\tvalid_0's binary_logloss: 0.266206\tvalid_0's f1: 0.73887\n",
      "[72]\tvalid_0's binary_logloss: 0.265191\tvalid_0's f1: 0.738822\n",
      "[73]\tvalid_0's binary_logloss: 0.264204\tvalid_0's f1: 0.738453\n",
      "[74]\tvalid_0's binary_logloss: 0.263347\tvalid_0's f1: 0.738889\n",
      "[75]\tvalid_0's binary_logloss: 0.262427\tvalid_0's f1: 0.739559\n",
      "[76]\tvalid_0's binary_logloss: 0.261474\tvalid_0's f1: 0.740053\n",
      "[77]\tvalid_0's binary_logloss: 0.260572\tvalid_0's f1: 0.740186\n",
      "[78]\tvalid_0's binary_logloss: 0.259593\tvalid_0's f1: 0.741193\n",
      "[79]\tvalid_0's binary_logloss: 0.258867\tvalid_0's f1: 0.740597\n",
      "[80]\tvalid_0's binary_logloss: 0.257948\tvalid_0's f1: 0.740321\n",
      "[81]\tvalid_0's binary_logloss: 0.257144\tvalid_0's f1: 0.74071\n",
      "[82]\tvalid_0's binary_logloss: 0.256468\tvalid_0's f1: 0.741886\n",
      "[83]\tvalid_0's binary_logloss: 0.255721\tvalid_0's f1: 0.741446\n",
      "[84]\tvalid_0's binary_logloss: 0.254994\tvalid_0's f1: 0.741691\n",
      "[85]\tvalid_0's binary_logloss: 0.254152\tvalid_0's f1: 0.742211\n",
      "[86]\tvalid_0's binary_logloss: 0.253442\tvalid_0's f1: 0.742589\n",
      "[87]\tvalid_0's binary_logloss: 0.252755\tvalid_0's f1: 0.742826\n",
      "[88]\tvalid_0's binary_logloss: 0.251966\tvalid_0's f1: 0.743448\n",
      "[89]\tvalid_0's binary_logloss: 0.251288\tvalid_0's f1: 0.744321\n",
      "[90]\tvalid_0's binary_logloss: 0.250651\tvalid_0's f1: 0.743943\n",
      "[91]\tvalid_0's binary_logloss: 0.249858\tvalid_0's f1: 0.744391\n",
      "[92]\tvalid_0's binary_logloss: 0.249242\tvalid_0's f1: 0.744391\n",
      "[93]\tvalid_0's binary_logloss: 0.248563\tvalid_0's f1: 0.744052\n",
      "[94]\tvalid_0's binary_logloss: 0.247948\tvalid_0's f1: 0.744942\n",
      "[95]\tvalid_0's binary_logloss: 0.247267\tvalid_0's f1: 0.745846\n",
      "[96]\tvalid_0's binary_logloss: 0.246663\tvalid_0's f1: 0.745265\n",
      "[97]\tvalid_0's binary_logloss: 0.246008\tvalid_0's f1: 0.745335\n",
      "[98]\tvalid_0's binary_logloss: 0.245476\tvalid_0's f1: 0.744964\n",
      "[99]\tvalid_0's binary_logloss: 0.244919\tvalid_0's f1: 0.745856\n",
      "[100]\tvalid_0's binary_logloss: 0.244311\tvalid_0's f1: 0.746334\n",
      "[101]\tvalid_0's binary_logloss: 0.243802\tvalid_0's f1: 0.745517\n",
      "[102]\tvalid_0's binary_logloss: 0.24314\tvalid_0's f1: 0.746097\n",
      "[103]\tvalid_0's binary_logloss: 0.242585\tvalid_0's f1: 0.746338\n",
      "[104]\tvalid_0's binary_logloss: 0.242044\tvalid_0's f1: 0.745484\n",
      "[105]\tvalid_0's binary_logloss: 0.241478\tvalid_0's f1: 0.745721\n",
      "[106]\tvalid_0's binary_logloss: 0.240877\tvalid_0's f1: 0.745925\n",
      "[107]\tvalid_0's binary_logloss: 0.240337\tvalid_0's f1: 0.745791\n",
      "[108]\tvalid_0's binary_logloss: 0.239809\tvalid_0's f1: 0.745071\n",
      "[109]\tvalid_0's binary_logloss: 0.239311\tvalid_0's f1: 0.745313\n",
      "[110]\tvalid_0's binary_logloss: 0.238675\tvalid_0's f1: 0.745624\n",
      "[111]\tvalid_0's binary_logloss: 0.238187\tvalid_0's f1: 0.745693\n",
      "[112]\tvalid_0's binary_logloss: 0.237642\tvalid_0's f1: 0.745591\n",
      "[113]\tvalid_0's binary_logloss: 0.237102\tvalid_0's f1: 0.745012\n",
      "[114]\tvalid_0's binary_logloss: 0.236693\tvalid_0's f1: 0.744434\n",
      "[115]\tvalid_0's binary_logloss: 0.236261\tvalid_0's f1: 0.7443\n",
      "[116]\tvalid_0's binary_logloss: 0.235858\tvalid_0's f1: 0.744536\n",
      "[117]\tvalid_0's binary_logloss: 0.235368\tvalid_0's f1: 0.744472\n",
      "[118]\tvalid_0's binary_logloss: 0.234845\tvalid_0's f1: 0.745291\n",
      "[119]\tvalid_0's binary_logloss: 0.234365\tvalid_0's f1: 0.745457\n",
      "[120]\tvalid_0's binary_logloss: 0.233917\tvalid_0's f1: 0.745462\n",
      "[121]\tvalid_0's binary_logloss: 0.233386\tvalid_0's f1: 0.745226\n",
      "[122]\tvalid_0's binary_logloss: 0.232913\tvalid_0's f1: 0.746216\n",
      "[123]\tvalid_0's binary_logloss: 0.232483\tvalid_0's f1: 0.746659\n",
      "[124]\tvalid_0's binary_logloss: 0.232066\tvalid_0's f1: 0.747172\n",
      "[125]\tvalid_0's binary_logloss: 0.231566\tvalid_0's f1: 0.746968\n",
      "[126]\tvalid_0's binary_logloss: 0.231125\tvalid_0's f1: 0.746728\n",
      "[127]\tvalid_0's binary_logloss: 0.230709\tvalid_0's f1: 0.746728\n",
      "[128]\tvalid_0's binary_logloss: 0.230339\tvalid_0's f1: 0.746322\n",
      "[129]\tvalid_0's binary_logloss: 0.229938\tvalid_0's f1: 0.746561\n",
      "[130]\tvalid_0's binary_logloss: 0.229563\tvalid_0's f1: 0.746561\n",
      "[131]\tvalid_0's binary_logloss: 0.229185\tvalid_0's f1: 0.746797\n",
      "[132]\tvalid_0's binary_logloss: 0.22878\tvalid_0's f1: 0.747208\n",
      "[133]\tvalid_0's binary_logloss: 0.22842\tvalid_0's f1: 0.747345\n",
      "[134]\tvalid_0's binary_logloss: 0.228037\tvalid_0's f1: 0.746261\n",
      "[135]\tvalid_0's binary_logloss: 0.227674\tvalid_0's f1: 0.747142\n",
      "[136]\tvalid_0's binary_logloss: 0.227228\tvalid_0's f1: 0.7465\n",
      "[137]\tvalid_0's binary_logloss: 0.226788\tvalid_0's f1: 0.746638\n",
      "[138]\tvalid_0's binary_logloss: 0.226368\tvalid_0's f1: 0.747554\n",
      "[139]\tvalid_0's binary_logloss: 0.225992\tvalid_0's f1: 0.747519\n",
      "[140]\tvalid_0's binary_logloss: 0.225614\tvalid_0's f1: 0.747519\n",
      "[141]\tvalid_0's binary_logloss: 0.225185\tvalid_0's f1: 0.747857\n",
      "[142]\tvalid_0's binary_logloss: 0.224912\tvalid_0's f1: 0.748196\n",
      "[143]\tvalid_0's binary_logloss: 0.224565\tvalid_0's f1: 0.747582\n",
      "[144]\tvalid_0's binary_logloss: 0.224162\tvalid_0's f1: 0.747106\n",
      "[145]\tvalid_0's binary_logloss: 0.223692\tvalid_0's f1: 0.747142\n",
      "[146]\tvalid_0's binary_logloss: 0.223277\tvalid_0's f1: 0.746667\n",
      "[147]\tvalid_0's binary_logloss: 0.222887\tvalid_0's f1: 0.747175\n",
      "[148]\tvalid_0's binary_logloss: 0.222618\tvalid_0's f1: 0.746972\n",
      "[149]\tvalid_0's binary_logloss: 0.222269\tvalid_0's f1: 0.747244\n",
      "[150]\tvalid_0's binary_logloss: 0.22198\tvalid_0's f1: 0.747992\n",
      "[151]\tvalid_0's binary_logloss: 0.22158\tvalid_0's f1: 0.748264\n",
      "[152]\tvalid_0's binary_logloss: 0.221215\tvalid_0's f1: 0.747549\n",
      "[153]\tvalid_0's binary_logloss: 0.220847\tvalid_0's f1: 0.747411\n",
      "[154]\tvalid_0's binary_logloss: 0.220563\tvalid_0's f1: 0.747444\n",
      "[155]\tvalid_0's binary_logloss: 0.220217\tvalid_0's f1: 0.747478\n",
      "[156]\tvalid_0's binary_logloss: 0.21989\tvalid_0's f1: 0.747954\n",
      "[157]\tvalid_0's binary_logloss: 0.219559\tvalid_0's f1: 0.748329\n",
      "[158]\tvalid_0's binary_logloss: 0.219251\tvalid_0's f1: 0.747921\n",
      "[159]\tvalid_0's binary_logloss: 0.218931\tvalid_0's f1: 0.748125\n",
      "[160]\tvalid_0's binary_logloss: 0.218629\tvalid_0's f1: 0.747888\n",
      "[161]\tvalid_0's binary_logloss: 0.218264\tvalid_0's f1: 0.748433\n",
      "[162]\tvalid_0's binary_logloss: 0.217974\tvalid_0's f1: 0.748705\n",
      "[163]\tvalid_0's binary_logloss: 0.217661\tvalid_0's f1: 0.748364\n",
      "[164]\tvalid_0's binary_logloss: 0.217388\tvalid_0's f1: 0.748807\n",
      "[165]\tvalid_0's binary_logloss: 0.217034\tvalid_0's f1: 0.748603\n",
      "[166]\tvalid_0's binary_logloss: 0.216777\tvalid_0's f1: 0.748433\n",
      "[167]\tvalid_0's binary_logloss: 0.21648\tvalid_0's f1: 0.748535\n",
      "[168]\tvalid_0's binary_logloss: 0.216168\tvalid_0's f1: 0.748637\n",
      "[169]\tvalid_0's binary_logloss: 0.215778\tvalid_0's f1: 0.749114\n",
      "[170]\tvalid_0's binary_logloss: 0.215453\tvalid_0's f1: 0.749625\n",
      "[171]\tvalid_0's binary_logloss: 0.215205\tvalid_0's f1: 0.749557\n",
      "[172]\tvalid_0's binary_logloss: 0.214946\tvalid_0's f1: 0.74908\n",
      "[173]\tvalid_0's binary_logloss: 0.214678\tvalid_0's f1: 0.748876\n",
      "[174]\tvalid_0's binary_logloss: 0.214371\tvalid_0's f1: 0.749115\n",
      "[175]\tvalid_0's binary_logloss: 0.214093\tvalid_0's f1: 0.749455\n",
      "[176]\tvalid_0's binary_logloss: 0.213751\tvalid_0's f1: 0.749898\n",
      "[177]\tvalid_0's binary_logloss: 0.213435\tvalid_0's f1: 0.750204\n",
      "[178]\tvalid_0's binary_logloss: 0.213208\tvalid_0's f1: 0.75\n",
      "[179]\tvalid_0's binary_logloss: 0.212907\tvalid_0's f1: 0.750306\n",
      "[180]\tvalid_0's binary_logloss: 0.212659\tvalid_0's f1: 0.75068\n",
      "[181]\tvalid_0's binary_logloss: 0.21232\tvalid_0's f1: 0.750408\n",
      "[182]\tvalid_0's binary_logloss: 0.2121\tvalid_0's f1: 0.750136\n",
      "[183]\tvalid_0's binary_logloss: 0.211853\tvalid_0's f1: 0.750068\n",
      "[184]\tvalid_0's binary_logloss: 0.211553\tvalid_0's f1: 0.749864\n",
      "[185]\tvalid_0's binary_logloss: 0.211315\tvalid_0's f1: 0.749456\n",
      "[186]\tvalid_0's binary_logloss: 0.211046\tvalid_0's f1: 0.749864\n",
      "[187]\tvalid_0's binary_logloss: 0.210818\tvalid_0's f1: 0.749388\n",
      "[188]\tvalid_0's binary_logloss: 0.210557\tvalid_0's f1: 0.749558\n",
      "[189]\tvalid_0's binary_logloss: 0.210297\tvalid_0's f1: 0.749082\n",
      "[190]\tvalid_0's binary_logloss: 0.210084\tvalid_0's f1: 0.749286\n",
      "[191]\tvalid_0's binary_logloss: 0.209801\tvalid_0's f1: 0.74915\n",
      "[192]\tvalid_0's binary_logloss: 0.209609\tvalid_0's f1: 0.749048\n",
      "[193]\tvalid_0's binary_logloss: 0.209368\tvalid_0's f1: 0.748301\n",
      "[194]\tvalid_0's binary_logloss: 0.209035\tvalid_0's f1: 0.748166\n",
      "[195]\tvalid_0's binary_logloss: 0.20881\tvalid_0's f1: 0.748471\n",
      "[196]\tvalid_0's binary_logloss: 0.208544\tvalid_0's f1: 0.748675\n",
      "[197]\tvalid_0's binary_logloss: 0.208299\tvalid_0's f1: 0.74793\n",
      "[198]\tvalid_0's binary_logloss: 0.208074\tvalid_0's f1: 0.749253\n",
      "[199]\tvalid_0's binary_logloss: 0.207875\tvalid_0's f1: 0.748779\n",
      "[200]\tvalid_0's binary_logloss: 0.20764\tvalid_0's f1: 0.749355\n",
      "Early stopping, best iteration is:\n",
      "[180]\tvalid_0's binary_logloss: 0.212659\tvalid_0's f1: 0.75068\n"
     ]
    },
    {
     "data": {
      "text/plain": [
       "LGBMClassifier(boosting_type='gbdt', class_weight='balanced',\n",
       "               colsample_bytree=1.0, importance_type='split', learning_rate=0.1,\n",
       "               max_depth=-1, min_child_samples=20, min_child_weight=0.001,\n",
       "               min_split_gain=0.0, n_estimators=500, n_jobs=-1, num_leaves=31,\n",
       "               objective=None, random_state=None, reg_alpha=0.0, reg_lambda=0.0,\n",
       "               silent=True, subsample=1.0, subsample_for_bin=200000,\n",
       "               subsample_freq=0)"
      ]
     },
     "execution_count": 70,
     "metadata": {
      "tags": []
     },
     "output_type": "execute_result"
    }
   ],
   "source": [
    "lgbm = LGBMClassifier(learning_rate=.1, n_estimators=500, class_weight='balanced')\n",
    "\n",
    "lgbm.fit(X=X_train, y=y_train, eval_set=(X_valid, y_valid), eval_metric=lgb_f1_score, verbose=True, early_stopping_rounds=20)"
   ]
  },
  {
   "cell_type": "code",
   "execution_count": 96,
   "metadata": {
    "colab": {
     "base_uri": "https://localhost:8080/"
    },
    "id": "ssEjfXwIl7lL",
    "outputId": "a8d93ee7-f0d4-4e8a-d19e-47c109c68898"
   },
   "outputs": [
    {
     "data": {
      "text/plain": [
       "0.7506804572672836"
      ]
     },
     "execution_count": 96,
     "metadata": {
      "tags": []
     },
     "output_type": "execute_result"
    }
   ],
   "source": [
    "f1_score(y_valid, lgbm.predict(X_valid))"
   ]
  },
  {
   "cell_type": "markdown",
   "metadata": {
    "id": "eJUJXCBzLivP"
   },
   "source": [
    "F1-мера на валидацонной выборке едва превышает пороговое значение 0.75. Попробуем изменить порог классификации для увеличения значения F1-меры."
   ]
  },
  {
   "cell_type": "code",
   "execution_count": 72,
   "metadata": {
    "id": "YEkJ0I8-5yKq"
   },
   "outputs": [],
   "source": [
    "prob_train = lgbm.predict_proba(X_train)\n",
    "prob_valid = lgbm.predict_proba(X_valid)\n",
    "\n",
    "prob_one_train = prob_train[:, 1]\n",
    "prob_one_valid = prob_valid[:, 1]"
   ]
  },
  {
   "cell_type": "code",
   "execution_count": 73,
   "metadata": {
    "colab": {
     "base_uri": "https://localhost:8080/"
    },
    "id": "u32vDmKM6cJc",
    "outputId": "7e118f5b-2c1d-411b-d40a-163bccfcd014"
   },
   "outputs": [
    {
     "name": "stderr",
     "output_type": "stream",
     "text": [
      "100%|██████████| 80/80 [00:04<00:00, 18.09it/s]\n"
     ]
    }
   ],
   "source": [
    "results = []\n",
    "for threshold in tqdm(np.arange(0.1, 0.9, 0.01)):\n",
    "  \n",
    "  pred_train = prob_one_train > threshold\n",
    "  pred_valid = prob_one_valid > threshold\n",
    "\n",
    "  results.append(dict(\n",
    "    threshold=threshold,\n",
    "    f1_train = f1_score(y_train, pred_train),\n",
    "    f1_valid = f1_score(y_valid, pred_valid),\n",
    "  ))"
   ]
  },
  {
   "cell_type": "code",
   "execution_count": 80,
   "metadata": {
    "colab": {
     "base_uri": "https://localhost:8080/",
     "height": 438
    },
    "id": "INcQOWk86nfr",
    "outputId": "caa2a262-829b-4857-d455-078ad9434f6c"
   },
   "outputs": [
    {
     "data": {
      "text/html": [
       "<style  type=\"text/css\" >\n",
       "#T_c3e39d40_8d7d_11eb_a752_0242ac1c0002row0_col0{\n",
       "            width:  10em;\n",
       "             height:  80%;\n",
       "            background:  linear-gradient(90deg,#d65f5f 70.0%, transparent 70.0%);\n",
       "        }#T_c3e39d40_8d7d_11eb_a752_0242ac1c0002row0_col1,#T_c3e39d40_8d7d_11eb_a752_0242ac1c0002row1_col1,#T_c3e39d40_8d7d_11eb_a752_0242ac1c0002row5_col1,#T_c3e39d40_8d7d_11eb_a752_0242ac1c0002row7_col1,#T_c3e39d40_8d7d_11eb_a752_0242ac1c0002row9_col1,#T_c3e39d40_8d7d_11eb_a752_0242ac1c0002row12_col1,#T_c3e39d40_8d7d_11eb_a752_0242ac1c0002row13_col1{\n",
       "            width:  10em;\n",
       "             height:  80%;\n",
       "            background:  linear-gradient(90deg,#d65f5f 82.8%, transparent 82.8%);\n",
       "        }#T_c3e39d40_8d7d_11eb_a752_0242ac1c0002row0_col2,#T_c3e39d40_8d7d_11eb_a752_0242ac1c0002row1_col2,#T_c3e39d40_8d7d_11eb_a752_0242ac1c0002row19_col0{\n",
       "            width:  10em;\n",
       "             height:  80%;\n",
       "            background:  linear-gradient(90deg,#d65f5f 78.0%, transparent 78.0%);\n",
       "        }#T_c3e39d40_8d7d_11eb_a752_0242ac1c0002row1_col0{\n",
       "            width:  10em;\n",
       "             height:  80%;\n",
       "            background:  linear-gradient(90deg,#d65f5f 69.0%, transparent 69.0%);\n",
       "        }#T_c3e39d40_8d7d_11eb_a752_0242ac1c0002row2_col0{\n",
       "            width:  10em;\n",
       "             height:  80%;\n",
       "            background:  linear-gradient(90deg,#d65f5f 73.0%, transparent 73.0%);\n",
       "        }#T_c3e39d40_8d7d_11eb_a752_0242ac1c0002row2_col1,#T_c3e39d40_8d7d_11eb_a752_0242ac1c0002row16_col1{\n",
       "            width:  10em;\n",
       "             height:  80%;\n",
       "            background:  linear-gradient(90deg,#d65f5f 82.5%, transparent 82.5%);\n",
       "        }#T_c3e39d40_8d7d_11eb_a752_0242ac1c0002row2_col2,#T_c3e39d40_8d7d_11eb_a752_0242ac1c0002row3_col2,#T_c3e39d40_8d7d_11eb_a752_0242ac1c0002row4_col2{\n",
       "            width:  10em;\n",
       "             height:  80%;\n",
       "            background:  linear-gradient(90deg,#d65f5f 77.9%, transparent 77.9%);\n",
       "        }#T_c3e39d40_8d7d_11eb_a752_0242ac1c0002row3_col0{\n",
       "            width:  10em;\n",
       "             height:  80%;\n",
       "            background:  linear-gradient(90deg,#d65f5f 71.0%, transparent 71.0%);\n",
       "        }#T_c3e39d40_8d7d_11eb_a752_0242ac1c0002row3_col1,#T_c3e39d40_8d7d_11eb_a752_0242ac1c0002row11_col1,#T_c3e39d40_8d7d_11eb_a752_0242ac1c0002row14_col1,#T_c3e39d40_8d7d_11eb_a752_0242ac1c0002row15_col1{\n",
       "            width:  10em;\n",
       "             height:  80%;\n",
       "            background:  linear-gradient(90deg,#d65f5f 82.7%, transparent 82.7%);\n",
       "        }#T_c3e39d40_8d7d_11eb_a752_0242ac1c0002row4_col0{\n",
       "            width:  10em;\n",
       "             height:  80%;\n",
       "            background:  linear-gradient(90deg,#d65f5f 72.0%, transparent 72.0%);\n",
       "        }#T_c3e39d40_8d7d_11eb_a752_0242ac1c0002row4_col1{\n",
       "            width:  10em;\n",
       "             height:  80%;\n",
       "            background:  linear-gradient(90deg,#d65f5f 82.6%, transparent 82.6%);\n",
       "        }#T_c3e39d40_8d7d_11eb_a752_0242ac1c0002row5_col0{\n",
       "            width:  10em;\n",
       "             height:  80%;\n",
       "            background:  linear-gradient(90deg,#d65f5f 68.0%, transparent 68.0%);\n",
       "        }#T_c3e39d40_8d7d_11eb_a752_0242ac1c0002row5_col2,#T_c3e39d40_8d7d_11eb_a752_0242ac1c0002row6_col2,#T_c3e39d40_8d7d_11eb_a752_0242ac1c0002row7_col2{\n",
       "            width:  10em;\n",
       "             height:  80%;\n",
       "            background:  linear-gradient(90deg,#d65f5f 77.8%, transparent 77.8%);\n",
       "        }#T_c3e39d40_8d7d_11eb_a752_0242ac1c0002row6_col0{\n",
       "            width:  10em;\n",
       "             height:  80%;\n",
       "            background:  linear-gradient(90deg,#d65f5f 74.0%, transparent 74.0%);\n",
       "        }#T_c3e39d40_8d7d_11eb_a752_0242ac1c0002row6_col1,#T_c3e39d40_8d7d_11eb_a752_0242ac1c0002row18_col1{\n",
       "            width:  10em;\n",
       "             height:  80%;\n",
       "            background:  linear-gradient(90deg,#d65f5f 82.4%, transparent 82.4%);\n",
       "        }#T_c3e39d40_8d7d_11eb_a752_0242ac1c0002row7_col0{\n",
       "            width:  10em;\n",
       "             height:  80%;\n",
       "            background:  linear-gradient(90deg,#d65f5f 67.0%, transparent 67.0%);\n",
       "        }#T_c3e39d40_8d7d_11eb_a752_0242ac1c0002row8_col0{\n",
       "            width:  10em;\n",
       "             height:  80%;\n",
       "            background:  linear-gradient(90deg,#d65f5f 76.0%, transparent 76.0%);\n",
       "        }#T_c3e39d40_8d7d_11eb_a752_0242ac1c0002row8_col1{\n",
       "            width:  10em;\n",
       "             height:  80%;\n",
       "            background:  linear-gradient(90deg,#d65f5f 82.1%, transparent 82.1%);\n",
       "        }#T_c3e39d40_8d7d_11eb_a752_0242ac1c0002row8_col2,#T_c3e39d40_8d7d_11eb_a752_0242ac1c0002row9_col2,#T_c3e39d40_8d7d_11eb_a752_0242ac1c0002row10_col2{\n",
       "            width:  10em;\n",
       "             height:  80%;\n",
       "            background:  linear-gradient(90deg,#d65f5f 77.7%, transparent 77.7%);\n",
       "        }#T_c3e39d40_8d7d_11eb_a752_0242ac1c0002row9_col0{\n",
       "            width:  10em;\n",
       "             height:  80%;\n",
       "            background:  linear-gradient(90deg,#d65f5f 66.0%, transparent 66.0%);\n",
       "        }#T_c3e39d40_8d7d_11eb_a752_0242ac1c0002row10_col0{\n",
       "            width:  10em;\n",
       "             height:  80%;\n",
       "            background:  linear-gradient(90deg,#d65f5f 75.0%, transparent 75.0%);\n",
       "        }#T_c3e39d40_8d7d_11eb_a752_0242ac1c0002row10_col1{\n",
       "            width:  10em;\n",
       "             height:  80%;\n",
       "            background:  linear-gradient(90deg,#d65f5f 82.3%, transparent 82.3%);\n",
       "        }#T_c3e39d40_8d7d_11eb_a752_0242ac1c0002row11_col0{\n",
       "            width:  10em;\n",
       "             height:  80%;\n",
       "            background:  linear-gradient(90deg,#d65f5f 61.0%, transparent 61.0%);\n",
       "        }#T_c3e39d40_8d7d_11eb_a752_0242ac1c0002row11_col2,#T_c3e39d40_8d7d_11eb_a752_0242ac1c0002row12_col2{\n",
       "            width:  10em;\n",
       "             height:  80%;\n",
       "            background:  linear-gradient(90deg,#d65f5f 77.6%, transparent 77.6%);\n",
       "        }#T_c3e39d40_8d7d_11eb_a752_0242ac1c0002row12_col0{\n",
       "            width:  10em;\n",
       "             height:  80%;\n",
       "            background:  linear-gradient(90deg,#d65f5f 64.0%, transparent 64.0%);\n",
       "        }#T_c3e39d40_8d7d_11eb_a752_0242ac1c0002row13_col0{\n",
       "            width:  10em;\n",
       "             height:  80%;\n",
       "            background:  linear-gradient(90deg,#d65f5f 65.0%, transparent 65.0%);\n",
       "        }#T_c3e39d40_8d7d_11eb_a752_0242ac1c0002row13_col2,#T_c3e39d40_8d7d_11eb_a752_0242ac1c0002row14_col2{\n",
       "            width:  10em;\n",
       "             height:  80%;\n",
       "            background:  linear-gradient(90deg,#d65f5f 77.5%, transparent 77.5%);\n",
       "        }#T_c3e39d40_8d7d_11eb_a752_0242ac1c0002row14_col0{\n",
       "            width:  10em;\n",
       "             height:  80%;\n",
       "            background:  linear-gradient(90deg,#d65f5f 62.0%, transparent 62.0%);\n",
       "        }#T_c3e39d40_8d7d_11eb_a752_0242ac1c0002row15_col0{\n",
       "            width:  10em;\n",
       "             height:  80%;\n",
       "            background:  linear-gradient(90deg,#d65f5f 63.0%, transparent 63.0%);\n",
       "        }#T_c3e39d40_8d7d_11eb_a752_0242ac1c0002row15_col2,#T_c3e39d40_8d7d_11eb_a752_0242ac1c0002row16_col2{\n",
       "            width:  10em;\n",
       "             height:  80%;\n",
       "            background:  linear-gradient(90deg,#d65f5f 77.4%, transparent 77.4%);\n",
       "        }#T_c3e39d40_8d7d_11eb_a752_0242ac1c0002row16_col0{\n",
       "            width:  10em;\n",
       "             height:  80%;\n",
       "            background:  linear-gradient(90deg,#d65f5f 60.0%, transparent 60.0%);\n",
       "        }#T_c3e39d40_8d7d_11eb_a752_0242ac1c0002row17_col0{\n",
       "            width:  10em;\n",
       "             height:  80%;\n",
       "            background:  linear-gradient(90deg,#d65f5f 77.0%, transparent 77.0%);\n",
       "        }#T_c3e39d40_8d7d_11eb_a752_0242ac1c0002row17_col1{\n",
       "            width:  10em;\n",
       "             height:  80%;\n",
       "            background:  linear-gradient(90deg,#d65f5f 81.9%, transparent 81.9%);\n",
       "        }#T_c3e39d40_8d7d_11eb_a752_0242ac1c0002row17_col2{\n",
       "            width:  10em;\n",
       "             height:  80%;\n",
       "            background:  linear-gradient(90deg,#d65f5f 77.3%, transparent 77.3%);\n",
       "        }#T_c3e39d40_8d7d_11eb_a752_0242ac1c0002row18_col0{\n",
       "            width:  10em;\n",
       "             height:  80%;\n",
       "            background:  linear-gradient(90deg,#d65f5f 59.0%, transparent 59.0%);\n",
       "        }#T_c3e39d40_8d7d_11eb_a752_0242ac1c0002row18_col2,#T_c3e39d40_8d7d_11eb_a752_0242ac1c0002row19_col2{\n",
       "            width:  10em;\n",
       "             height:  80%;\n",
       "            background:  linear-gradient(90deg,#d65f5f 77.2%, transparent 77.2%);\n",
       "        }#T_c3e39d40_8d7d_11eb_a752_0242ac1c0002row19_col1{\n",
       "            width:  10em;\n",
       "             height:  80%;\n",
       "            background:  linear-gradient(90deg,#d65f5f 81.6%, transparent 81.6%);\n",
       "        }</style><table id=\"T_c3e39d40_8d7d_11eb_a752_0242ac1c0002\" ><thead>    <tr>        <th class=\"blank level0\" ></th>        <th class=\"col_heading level0 col0\" >threshold</th>        <th class=\"col_heading level0 col1\" >f1_train</th>        <th class=\"col_heading level0 col2\" >f1_valid</th>    </tr></thead><tbody>\n",
       "                <tr>\n",
       "                        <th id=\"T_c3e39d40_8d7d_11eb_a752_0242ac1c0002level0_row0\" class=\"row_heading level0 row0\" >60</th>\n",
       "                        <td id=\"T_c3e39d40_8d7d_11eb_a752_0242ac1c0002row0_col0\" class=\"data row0 col0\" >0.700000</td>\n",
       "                        <td id=\"T_c3e39d40_8d7d_11eb_a752_0242ac1c0002row0_col1\" class=\"data row0 col1\" >0.827759</td>\n",
       "                        <td id=\"T_c3e39d40_8d7d_11eb_a752_0242ac1c0002row0_col2\" class=\"data row0 col2\" >0.779576</td>\n",
       "            </tr>\n",
       "            <tr>\n",
       "                        <th id=\"T_c3e39d40_8d7d_11eb_a752_0242ac1c0002level0_row1\" class=\"row_heading level0 row1\" >59</th>\n",
       "                        <td id=\"T_c3e39d40_8d7d_11eb_a752_0242ac1c0002row1_col0\" class=\"data row1 col0\" >0.690000</td>\n",
       "                        <td id=\"T_c3e39d40_8d7d_11eb_a752_0242ac1c0002row1_col1\" class=\"data row1 col1\" >0.828176</td>\n",
       "                        <td id=\"T_c3e39d40_8d7d_11eb_a752_0242ac1c0002row1_col2\" class=\"data row1 col2\" >0.779550</td>\n",
       "            </tr>\n",
       "            <tr>\n",
       "                        <th id=\"T_c3e39d40_8d7d_11eb_a752_0242ac1c0002level0_row2\" class=\"row_heading level0 row2\" >63</th>\n",
       "                        <td id=\"T_c3e39d40_8d7d_11eb_a752_0242ac1c0002row2_col0\" class=\"data row2 col0\" >0.730000</td>\n",
       "                        <td id=\"T_c3e39d40_8d7d_11eb_a752_0242ac1c0002row2_col1\" class=\"data row2 col1\" >0.824858</td>\n",
       "                        <td id=\"T_c3e39d40_8d7d_11eb_a752_0242ac1c0002row2_col2\" class=\"data row2 col2\" >0.779196</td>\n",
       "            </tr>\n",
       "            <tr>\n",
       "                        <th id=\"T_c3e39d40_8d7d_11eb_a752_0242ac1c0002level0_row3\" class=\"row_heading level0 row3\" >61</th>\n",
       "                        <td id=\"T_c3e39d40_8d7d_11eb_a752_0242ac1c0002row3_col0\" class=\"data row3 col0\" >0.710000</td>\n",
       "                        <td id=\"T_c3e39d40_8d7d_11eb_a752_0242ac1c0002row3_col1\" class=\"data row3 col1\" >0.826777</td>\n",
       "                        <td id=\"T_c3e39d40_8d7d_11eb_a752_0242ac1c0002row3_col2\" class=\"data row3 col2\" >0.779163</td>\n",
       "            </tr>\n",
       "            <tr>\n",
       "                        <th id=\"T_c3e39d40_8d7d_11eb_a752_0242ac1c0002level0_row4\" class=\"row_heading level0 row4\" >62</th>\n",
       "                        <td id=\"T_c3e39d40_8d7d_11eb_a752_0242ac1c0002row4_col0\" class=\"data row4 col0\" >0.720000</td>\n",
       "                        <td id=\"T_c3e39d40_8d7d_11eb_a752_0242ac1c0002row4_col1\" class=\"data row4 col1\" >0.826310</td>\n",
       "                        <td id=\"T_c3e39d40_8d7d_11eb_a752_0242ac1c0002row4_col2\" class=\"data row4 col2\" >0.779014</td>\n",
       "            </tr>\n",
       "            <tr>\n",
       "                        <th id=\"T_c3e39d40_8d7d_11eb_a752_0242ac1c0002level0_row5\" class=\"row_heading level0 row5\" >58</th>\n",
       "                        <td id=\"T_c3e39d40_8d7d_11eb_a752_0242ac1c0002row5_col0\" class=\"data row5 col0\" >0.680000</td>\n",
       "                        <td id=\"T_c3e39d40_8d7d_11eb_a752_0242ac1c0002row5_col1\" class=\"data row5 col1\" >0.827881</td>\n",
       "                        <td id=\"T_c3e39d40_8d7d_11eb_a752_0242ac1c0002row5_col2\" class=\"data row5 col2\" >0.777985</td>\n",
       "            </tr>\n",
       "            <tr>\n",
       "                        <th id=\"T_c3e39d40_8d7d_11eb_a752_0242ac1c0002level0_row6\" class=\"row_heading level0 row6\" >64</th>\n",
       "                        <td id=\"T_c3e39d40_8d7d_11eb_a752_0242ac1c0002row6_col0\" class=\"data row6 col0\" >0.740000</td>\n",
       "                        <td id=\"T_c3e39d40_8d7d_11eb_a752_0242ac1c0002row6_col1\" class=\"data row6 col1\" >0.823851</td>\n",
       "                        <td id=\"T_c3e39d40_8d7d_11eb_a752_0242ac1c0002row6_col2\" class=\"data row6 col2\" >0.777796</td>\n",
       "            </tr>\n",
       "            <tr>\n",
       "                        <th id=\"T_c3e39d40_8d7d_11eb_a752_0242ac1c0002level0_row7\" class=\"row_heading level0 row7\" >57</th>\n",
       "                        <td id=\"T_c3e39d40_8d7d_11eb_a752_0242ac1c0002row7_col0\" class=\"data row7 col0\" >0.670000</td>\n",
       "                        <td id=\"T_c3e39d40_8d7d_11eb_a752_0242ac1c0002row7_col1\" class=\"data row7 col1\" >0.827731</td>\n",
       "                        <td id=\"T_c3e39d40_8d7d_11eb_a752_0242ac1c0002row7_col2\" class=\"data row7 col2\" >0.777761</td>\n",
       "            </tr>\n",
       "            <tr>\n",
       "                        <th id=\"T_c3e39d40_8d7d_11eb_a752_0242ac1c0002level0_row8\" class=\"row_heading level0 row8\" >66</th>\n",
       "                        <td id=\"T_c3e39d40_8d7d_11eb_a752_0242ac1c0002row8_col0\" class=\"data row8 col0\" >0.760000</td>\n",
       "                        <td id=\"T_c3e39d40_8d7d_11eb_a752_0242ac1c0002row8_col1\" class=\"data row8 col1\" >0.821338</td>\n",
       "                        <td id=\"T_c3e39d40_8d7d_11eb_a752_0242ac1c0002row8_col2\" class=\"data row8 col2\" >0.776946</td>\n",
       "            </tr>\n",
       "            <tr>\n",
       "                        <th id=\"T_c3e39d40_8d7d_11eb_a752_0242ac1c0002level0_row9\" class=\"row_heading level0 row9\" >56</th>\n",
       "                        <td id=\"T_c3e39d40_8d7d_11eb_a752_0242ac1c0002row9_col0\" class=\"data row9 col0\" >0.660000</td>\n",
       "                        <td id=\"T_c3e39d40_8d7d_11eb_a752_0242ac1c0002row9_col1\" class=\"data row9 col1\" >0.827927</td>\n",
       "                        <td id=\"T_c3e39d40_8d7d_11eb_a752_0242ac1c0002row9_col2\" class=\"data row9 col2\" >0.776892</td>\n",
       "            </tr>\n",
       "            <tr>\n",
       "                        <th id=\"T_c3e39d40_8d7d_11eb_a752_0242ac1c0002level0_row10\" class=\"row_heading level0 row10\" >65</th>\n",
       "                        <td id=\"T_c3e39d40_8d7d_11eb_a752_0242ac1c0002row10_col0\" class=\"data row10 col0\" >0.750000</td>\n",
       "                        <td id=\"T_c3e39d40_8d7d_11eb_a752_0242ac1c0002row10_col1\" class=\"data row10 col1\" >0.822890</td>\n",
       "                        <td id=\"T_c3e39d40_8d7d_11eb_a752_0242ac1c0002row10_col2\" class=\"data row10 col2\" >0.776862</td>\n",
       "            </tr>\n",
       "            <tr>\n",
       "                        <th id=\"T_c3e39d40_8d7d_11eb_a752_0242ac1c0002level0_row11\" class=\"row_heading level0 row11\" >51</th>\n",
       "                        <td id=\"T_c3e39d40_8d7d_11eb_a752_0242ac1c0002row11_col0\" class=\"data row11 col0\" >0.610000</td>\n",
       "                        <td id=\"T_c3e39d40_8d7d_11eb_a752_0242ac1c0002row11_col1\" class=\"data row11 col1\" >0.826620</td>\n",
       "                        <td id=\"T_c3e39d40_8d7d_11eb_a752_0242ac1c0002row11_col2\" class=\"data row11 col2\" >0.775801</td>\n",
       "            </tr>\n",
       "            <tr>\n",
       "                        <th id=\"T_c3e39d40_8d7d_11eb_a752_0242ac1c0002level0_row12\" class=\"row_heading level0 row12\" >54</th>\n",
       "                        <td id=\"T_c3e39d40_8d7d_11eb_a752_0242ac1c0002row12_col0\" class=\"data row12 col0\" >0.640000</td>\n",
       "                        <td id=\"T_c3e39d40_8d7d_11eb_a752_0242ac1c0002row12_col1\" class=\"data row12 col1\" >0.827905</td>\n",
       "                        <td id=\"T_c3e39d40_8d7d_11eb_a752_0242ac1c0002row12_col2\" class=\"data row12 col2\" >0.775677</td>\n",
       "            </tr>\n",
       "            <tr>\n",
       "                        <th id=\"T_c3e39d40_8d7d_11eb_a752_0242ac1c0002level0_row13\" class=\"row_heading level0 row13\" >55</th>\n",
       "                        <td id=\"T_c3e39d40_8d7d_11eb_a752_0242ac1c0002row13_col0\" class=\"data row13 col0\" >0.650000</td>\n",
       "                        <td id=\"T_c3e39d40_8d7d_11eb_a752_0242ac1c0002row13_col1\" class=\"data row13 col1\" >0.827868</td>\n",
       "                        <td id=\"T_c3e39d40_8d7d_11eb_a752_0242ac1c0002row13_col2\" class=\"data row13 col2\" >0.775460</td>\n",
       "            </tr>\n",
       "            <tr>\n",
       "                        <th id=\"T_c3e39d40_8d7d_11eb_a752_0242ac1c0002level0_row14\" class=\"row_heading level0 row14\" >52</th>\n",
       "                        <td id=\"T_c3e39d40_8d7d_11eb_a752_0242ac1c0002row14_col0\" class=\"data row14 col0\" >0.620000</td>\n",
       "                        <td id=\"T_c3e39d40_8d7d_11eb_a752_0242ac1c0002row14_col1\" class=\"data row14 col1\" >0.827194</td>\n",
       "                        <td id=\"T_c3e39d40_8d7d_11eb_a752_0242ac1c0002row14_col2\" class=\"data row14 col2\" >0.774713</td>\n",
       "            </tr>\n",
       "            <tr>\n",
       "                        <th id=\"T_c3e39d40_8d7d_11eb_a752_0242ac1c0002level0_row15\" class=\"row_heading level0 row15\" >53</th>\n",
       "                        <td id=\"T_c3e39d40_8d7d_11eb_a752_0242ac1c0002row15_col0\" class=\"data row15 col0\" >0.630000</td>\n",
       "                        <td id=\"T_c3e39d40_8d7d_11eb_a752_0242ac1c0002row15_col1\" class=\"data row15 col1\" >0.827263</td>\n",
       "                        <td id=\"T_c3e39d40_8d7d_11eb_a752_0242ac1c0002row15_col2\" class=\"data row15 col2\" >0.774223</td>\n",
       "            </tr>\n",
       "            <tr>\n",
       "                        <th id=\"T_c3e39d40_8d7d_11eb_a752_0242ac1c0002level0_row16\" class=\"row_heading level0 row16\" >50</th>\n",
       "                        <td id=\"T_c3e39d40_8d7d_11eb_a752_0242ac1c0002row16_col0\" class=\"data row16 col0\" >0.600000</td>\n",
       "                        <td id=\"T_c3e39d40_8d7d_11eb_a752_0242ac1c0002row16_col1\" class=\"data row16 col1\" >0.825451</td>\n",
       "                        <td id=\"T_c3e39d40_8d7d_11eb_a752_0242ac1c0002row16_col2\" class=\"data row16 col2\" >0.774004</td>\n",
       "            </tr>\n",
       "            <tr>\n",
       "                        <th id=\"T_c3e39d40_8d7d_11eb_a752_0242ac1c0002level0_row17\" class=\"row_heading level0 row17\" >67</th>\n",
       "                        <td id=\"T_c3e39d40_8d7d_11eb_a752_0242ac1c0002row17_col0\" class=\"data row17 col0\" >0.770000</td>\n",
       "                        <td id=\"T_c3e39d40_8d7d_11eb_a752_0242ac1c0002row17_col1\" class=\"data row17 col1\" >0.819391</td>\n",
       "                        <td id=\"T_c3e39d40_8d7d_11eb_a752_0242ac1c0002row17_col2\" class=\"data row17 col2\" >0.773093</td>\n",
       "            </tr>\n",
       "            <tr>\n",
       "                        <th id=\"T_c3e39d40_8d7d_11eb_a752_0242ac1c0002level0_row18\" class=\"row_heading level0 row18\" >49</th>\n",
       "                        <td id=\"T_c3e39d40_8d7d_11eb_a752_0242ac1c0002row18_col0\" class=\"data row18 col0\" >0.590000</td>\n",
       "                        <td id=\"T_c3e39d40_8d7d_11eb_a752_0242ac1c0002row18_col1\" class=\"data row18 col1\" >0.823763</td>\n",
       "                        <td id=\"T_c3e39d40_8d7d_11eb_a752_0242ac1c0002row18_col2\" class=\"data row18 col2\" >0.771879</td>\n",
       "            </tr>\n",
       "            <tr>\n",
       "                        <th id=\"T_c3e39d40_8d7d_11eb_a752_0242ac1c0002level0_row19\" class=\"row_heading level0 row19\" >68</th>\n",
       "                        <td id=\"T_c3e39d40_8d7d_11eb_a752_0242ac1c0002row19_col0\" class=\"data row19 col0\" >0.780000</td>\n",
       "                        <td id=\"T_c3e39d40_8d7d_11eb_a752_0242ac1c0002row19_col1\" class=\"data row19 col1\" >0.816439</td>\n",
       "                        <td id=\"T_c3e39d40_8d7d_11eb_a752_0242ac1c0002row19_col2\" class=\"data row19 col2\" >0.771565</td>\n",
       "            </tr>\n",
       "    </tbody></table>"
      ],
      "text/plain": [
       "<pandas.io.formats.style.Styler at 0x7f1f2efab290>"
      ]
     },
     "execution_count": 80,
     "metadata": {
      "tags": []
     },
     "output_type": "execute_result"
    }
   ],
   "source": [
    "results = pd.DataFrame(results)\n",
    "\n",
    "results.sort_values('f1_valid', ascending=False).head(20).style.bar(vmin=0, vmax=1)"
   ]
  },
  {
   "cell_type": "markdown",
   "metadata": {
    "id": "9sRDGyLTLzUg"
   },
   "source": [
    "При пороге 0.7 F1-score на валидационной выборке превышает 0.77.\n",
    "\n",
    "Итого имеем 2 модели (логистическая регрессия и градиентный бустинг) с близкими значениями F1-меры, превышающими пороговое значение 0.75. Чтобы снизить variance предсказаний, попробуем объединить предсказания этих моделей. Найдём такие веса w1 и w2 (w1 + w2 = 1), чтобы сумма взвешенных предсказаний обеспечивала наибольшее значение метрики F1."
   ]
  },
  {
   "cell_type": "code",
   "execution_count": 76,
   "metadata": {
    "id": "WY3DZvBB6ncn"
   },
   "outputs": [],
   "source": [
    "prob_one_train_lr = lr.predict_proba(X_train)[:, 1]\n",
    "prob_one_valid_lr = lr.predict_proba(X_valid)[:, 1]\n",
    "\n",
    "prob_one_train_lgbm = lgbm.predict_proba(X_train)[:, 1]\n",
    "prob_one_valid_lgbm = lgbm.predict_proba(X_valid)[:, 1]"
   ]
  },
  {
   "cell_type": "code",
   "execution_count": 77,
   "metadata": {
    "id": "I62Luhbu6nZS"
   },
   "outputs": [],
   "source": [
    "threshold = 0.7\n",
    "\n",
    "pred_train_lr = prob_one_train_lr > threshold\n",
    "pred_valid_lr = prob_one_valid_lr > threshold\n",
    "\n",
    "pred_train_lgbm = prob_one_train_lgbm > threshold\n",
    "pred_valid_lgbm = prob_one_valid_lgbm > threshold"
   ]
  },
  {
   "cell_type": "code",
   "execution_count": 92,
   "metadata": {
    "colab": {
     "base_uri": "https://localhost:8080/"
    },
    "id": "quaIh6Ps84QH",
    "outputId": "c5f5d351-db0c-405e-f156-64a6b9fca150"
   },
   "outputs": [
    {
     "name": "stderr",
     "output_type": "stream",
     "text": [
      "100%|██████████| 21/21 [00:01<00:00, 16.50it/s]\n"
     ]
    }
   ],
   "source": [
    "results = []\n",
    "for weight in tqdm(np.arange(0, 1.05, 0.05)):\n",
    "  prob_one_train_ensemble = prob_one_train_lr * weight + prob_one_train_lgbm * (1 - weight)\n",
    "  prob_one_valid_ensemble = prob_one_valid_lr * weight + prob_one_valid_lgbm * (1 - weight)\n",
    "\n",
    "  threshold = 0.7\n",
    "\n",
    "  pred_train_ensemble = prob_one_train_ensemble > threshold\n",
    "  pred_valid_ensemble = prob_one_valid_ensemble > threshold\n",
    "\n",
    "  results.append(dict(\n",
    "    lr_weight=weight,\n",
    "    f1_train = f1_score(y_train, pred_train_ensemble),\n",
    "    f1_valid = f1_score(y_valid, pred_valid_ensemble),\n",
    "  ))  "
   ]
  },
  {
   "cell_type": "code",
   "execution_count": 93,
   "metadata": {
    "colab": {
     "base_uri": "https://localhost:8080/",
     "height": 458
    },
    "id": "pi5lf9DO98I7",
    "outputId": "d71697cb-cb29-4f84-b67b-084788cbcbed"
   },
   "outputs": [
    {
     "data": {
      "text/html": [
       "<style  type=\"text/css\" >\n",
       "#T_fc24d24a_8d7e_11eb_a752_0242ac1c0002row0_col0{\n",
       "            width:  10em;\n",
       "             height:  80%;\n",
       "            background:  linear-gradient(90deg,#d65f5f 50.0%, transparent 50.0%);\n",
       "        }#T_fc24d24a_8d7e_11eb_a752_0242ac1c0002row0_col1{\n",
       "            width:  10em;\n",
       "             height:  80%;\n",
       "            background:  linear-gradient(90deg,#d65f5f 84.4%, transparent 84.4%);\n",
       "        }#T_fc24d24a_8d7e_11eb_a752_0242ac1c0002row0_col2{\n",
       "            width:  10em;\n",
       "             height:  80%;\n",
       "            background:  linear-gradient(90deg,#d65f5f 79.2%, transparent 79.2%);\n",
       "        }#T_fc24d24a_8d7e_11eb_a752_0242ac1c0002row1_col0{\n",
       "            width:  10em;\n",
       "             height:  80%;\n",
       "            background:  linear-gradient(90deg,#d65f5f 40.0%, transparent 40.0%);\n",
       "        }#T_fc24d24a_8d7e_11eb_a752_0242ac1c0002row1_col1{\n",
       "            width:  10em;\n",
       "             height:  80%;\n",
       "            background:  linear-gradient(90deg,#d65f5f 84.1%, transparent 84.1%);\n",
       "        }#T_fc24d24a_8d7e_11eb_a752_0242ac1c0002row1_col2,#T_fc24d24a_8d7e_11eb_a752_0242ac1c0002row2_col2{\n",
       "            width:  10em;\n",
       "             height:  80%;\n",
       "            background:  linear-gradient(90deg,#d65f5f 79.1%, transparent 79.1%);\n",
       "        }#T_fc24d24a_8d7e_11eb_a752_0242ac1c0002row2_col0{\n",
       "            width:  10em;\n",
       "             height:  80%;\n",
       "            background:  linear-gradient(90deg,#d65f5f 45.0%, transparent 45.0%);\n",
       "        }#T_fc24d24a_8d7e_11eb_a752_0242ac1c0002row2_col1{\n",
       "            width:  10em;\n",
       "             height:  80%;\n",
       "            background:  linear-gradient(90deg,#d65f5f 84.3%, transparent 84.3%);\n",
       "        }#T_fc24d24a_8d7e_11eb_a752_0242ac1c0002row3_col0{\n",
       "            width:  10em;\n",
       "             height:  80%;\n",
       "            background:  linear-gradient(90deg,#d65f5f 55.0%, transparent 55.0%);\n",
       "        }#T_fc24d24a_8d7e_11eb_a752_0242ac1c0002row3_col1{\n",
       "            width:  10em;\n",
       "             height:  80%;\n",
       "            background:  linear-gradient(90deg,#d65f5f 84.5%, transparent 84.5%);\n",
       "        }#T_fc24d24a_8d7e_11eb_a752_0242ac1c0002row3_col2,#T_fc24d24a_8d7e_11eb_a752_0242ac1c0002row4_col2{\n",
       "            width:  10em;\n",
       "             height:  80%;\n",
       "            background:  linear-gradient(90deg,#d65f5f 79.0%, transparent 79.0%);\n",
       "        }#T_fc24d24a_8d7e_11eb_a752_0242ac1c0002row4_col0{\n",
       "            width:  10em;\n",
       "             height:  80%;\n",
       "            background:  linear-gradient(90deg,#d65f5f 35.0%, transparent 35.0%);\n",
       "        }#T_fc24d24a_8d7e_11eb_a752_0242ac1c0002row4_col1{\n",
       "            width:  10em;\n",
       "             height:  80%;\n",
       "            background:  linear-gradient(90deg,#d65f5f 84.0%, transparent 84.0%);\n",
       "        }#T_fc24d24a_8d7e_11eb_a752_0242ac1c0002row5_col0{\n",
       "            width:  10em;\n",
       "             height:  80%;\n",
       "            background:  linear-gradient(90deg,#d65f5f 60.0%, transparent 60.0%);\n",
       "        }#T_fc24d24a_8d7e_11eb_a752_0242ac1c0002row5_col1{\n",
       "            width:  10em;\n",
       "             height:  80%;\n",
       "            background:  linear-gradient(90deg,#d65f5f 84.6%, transparent 84.6%);\n",
       "        }#T_fc24d24a_8d7e_11eb_a752_0242ac1c0002row5_col2,#T_fc24d24a_8d7e_11eb_a752_0242ac1c0002row6_col2,#T_fc24d24a_8d7e_11eb_a752_0242ac1c0002row7_col2,#T_fc24d24a_8d7e_11eb_a752_0242ac1c0002row8_col2{\n",
       "            width:  10em;\n",
       "             height:  80%;\n",
       "            background:  linear-gradient(90deg,#d65f5f 78.9%, transparent 78.9%);\n",
       "        }#T_fc24d24a_8d7e_11eb_a752_0242ac1c0002row6_col0{\n",
       "            width:  10em;\n",
       "             height:  80%;\n",
       "            background:  linear-gradient(90deg,#d65f5f 65.0%, transparent 65.0%);\n",
       "        }#T_fc24d24a_8d7e_11eb_a752_0242ac1c0002row6_col1{\n",
       "            width:  10em;\n",
       "             height:  80%;\n",
       "            background:  linear-gradient(90deg,#d65f5f 84.7%, transparent 84.7%);\n",
       "        }#T_fc24d24a_8d7e_11eb_a752_0242ac1c0002row7_col0{\n",
       "            width:  10em;\n",
       "             height:  80%;\n",
       "            background:  linear-gradient(90deg,#d65f5f 70.0%, transparent 70.0%);\n",
       "        }#T_fc24d24a_8d7e_11eb_a752_0242ac1c0002row7_col1{\n",
       "            width:  10em;\n",
       "             height:  80%;\n",
       "            background:  linear-gradient(90deg,#d65f5f 84.8%, transparent 84.8%);\n",
       "        }#T_fc24d24a_8d7e_11eb_a752_0242ac1c0002row8_col0{\n",
       "            width:  10em;\n",
       "             height:  80%;\n",
       "            background:  linear-gradient(90deg,#d65f5f 75.0%, transparent 75.0%);\n",
       "        }#T_fc24d24a_8d7e_11eb_a752_0242ac1c0002row8_col1,#T_fc24d24a_8d7e_11eb_a752_0242ac1c0002row12_col0{\n",
       "            width:  10em;\n",
       "             height:  80%;\n",
       "            background:  linear-gradient(90deg,#d65f5f 85.0%, transparent 85.0%);\n",
       "        }#T_fc24d24a_8d7e_11eb_a752_0242ac1c0002row9_col0{\n",
       "            width:  10em;\n",
       "             height:  80%;\n",
       "            background:  linear-gradient(90deg,#d65f5f 30.0%, transparent 30.0%);\n",
       "        }#T_fc24d24a_8d7e_11eb_a752_0242ac1c0002row9_col1{\n",
       "            width:  10em;\n",
       "             height:  80%;\n",
       "            background:  linear-gradient(90deg,#d65f5f 83.9%, transparent 83.9%);\n",
       "        }#T_fc24d24a_8d7e_11eb_a752_0242ac1c0002row9_col2{\n",
       "            width:  10em;\n",
       "             height:  80%;\n",
       "            background:  linear-gradient(90deg,#d65f5f 78.8%, transparent 78.8%);\n",
       "        }#T_fc24d24a_8d7e_11eb_a752_0242ac1c0002row10_col0{\n",
       "            width:  10em;\n",
       "             height:  80%;\n",
       "            background:  linear-gradient(90deg,#d65f5f 80.0%, transparent 80.0%);\n",
       "        }#T_fc24d24a_8d7e_11eb_a752_0242ac1c0002row10_col1{\n",
       "            width:  10em;\n",
       "             height:  80%;\n",
       "            background:  linear-gradient(90deg,#d65f5f 85.2%, transparent 85.2%);\n",
       "        }#T_fc24d24a_8d7e_11eb_a752_0242ac1c0002row10_col2,#T_fc24d24a_8d7e_11eb_a752_0242ac1c0002row11_col2{\n",
       "            width:  10em;\n",
       "             height:  80%;\n",
       "            background:  linear-gradient(90deg,#d65f5f 78.7%, transparent 78.7%);\n",
       "        }#T_fc24d24a_8d7e_11eb_a752_0242ac1c0002row11_col0{\n",
       "            width:  10em;\n",
       "             height:  80%;\n",
       "            background:  linear-gradient(90deg,#d65f5f 25.0%, transparent 25.0%);\n",
       "        }#T_fc24d24a_8d7e_11eb_a752_0242ac1c0002row11_col1{\n",
       "            width:  10em;\n",
       "             height:  80%;\n",
       "            background:  linear-gradient(90deg,#d65f5f 83.8%, transparent 83.8%);\n",
       "        }#T_fc24d24a_8d7e_11eb_a752_0242ac1c0002row12_col1{\n",
       "            width:  10em;\n",
       "             height:  80%;\n",
       "            background:  linear-gradient(90deg,#d65f5f 85.3%, transparent 85.3%);\n",
       "        }#T_fc24d24a_8d7e_11eb_a752_0242ac1c0002row12_col2,#T_fc24d24a_8d7e_11eb_a752_0242ac1c0002row13_col2{\n",
       "            width:  10em;\n",
       "             height:  80%;\n",
       "            background:  linear-gradient(90deg,#d65f5f 78.6%, transparent 78.6%);\n",
       "        }#T_fc24d24a_8d7e_11eb_a752_0242ac1c0002row13_col0{\n",
       "            width:  10em;\n",
       "             height:  80%;\n",
       "            background:  linear-gradient(90deg,#d65f5f 20.0%, transparent 20.0%);\n",
       "        }#T_fc24d24a_8d7e_11eb_a752_0242ac1c0002row13_col1{\n",
       "            width:  10em;\n",
       "             height:  80%;\n",
       "            background:  linear-gradient(90deg,#d65f5f 83.6%, transparent 83.6%);\n",
       "        }#T_fc24d24a_8d7e_11eb_a752_0242ac1c0002row14_col0{\n",
       "            width:  10em;\n",
       "             height:  80%;\n",
       "            background:  linear-gradient(90deg,#d65f5f 95.0%, transparent 95.0%);\n",
       "        }#T_fc24d24a_8d7e_11eb_a752_0242ac1c0002row14_col1,#T_fc24d24a_8d7e_11eb_a752_0242ac1c0002row15_col1,#T_fc24d24a_8d7e_11eb_a752_0242ac1c0002row17_col1{\n",
       "            width:  10em;\n",
       "             height:  80%;\n",
       "            background:  linear-gradient(90deg,#d65f5f 85.4%, transparent 85.4%);\n",
       "        }#T_fc24d24a_8d7e_11eb_a752_0242ac1c0002row14_col2,#T_fc24d24a_8d7e_11eb_a752_0242ac1c0002row15_col2{\n",
       "            width:  10em;\n",
       "             height:  80%;\n",
       "            background:  linear-gradient(90deg,#d65f5f 78.5%, transparent 78.5%);\n",
       "        }#T_fc24d24a_8d7e_11eb_a752_0242ac1c0002row15_col0{\n",
       "            width:  10em;\n",
       "             height:  80%;\n",
       "            background:  linear-gradient(90deg,#d65f5f 90.0%, transparent 90.0%);\n",
       "        }#T_fc24d24a_8d7e_11eb_a752_0242ac1c0002row16_col0{\n",
       "            width:  10em;\n",
       "             height:  80%;\n",
       "            background:  linear-gradient(90deg,#d65f5f 15.0%, transparent 15.0%);\n",
       "        }#T_fc24d24a_8d7e_11eb_a752_0242ac1c0002row16_col1{\n",
       "            width:  10em;\n",
       "             height:  80%;\n",
       "            background:  linear-gradient(90deg,#d65f5f 83.3%, transparent 83.3%);\n",
       "        }#T_fc24d24a_8d7e_11eb_a752_0242ac1c0002row16_col2{\n",
       "            width:  10em;\n",
       "             height:  80%;\n",
       "            background:  linear-gradient(90deg,#d65f5f 78.4%, transparent 78.4%);\n",
       "        }#T_fc24d24a_8d7e_11eb_a752_0242ac1c0002row17_col0{\n",
       "            width:  10em;\n",
       "             height:  80%;\n",
       "            background:  linear-gradient(90deg,#d65f5f 100.0%, transparent 100.0%);\n",
       "        }#T_fc24d24a_8d7e_11eb_a752_0242ac1c0002row17_col2,#T_fc24d24a_8d7e_11eb_a752_0242ac1c0002row18_col2{\n",
       "            width:  10em;\n",
       "             height:  80%;\n",
       "            background:  linear-gradient(90deg,#d65f5f 78.3%, transparent 78.3%);\n",
       "        }#T_fc24d24a_8d7e_11eb_a752_0242ac1c0002row18_col0{\n",
       "            width:  10em;\n",
       "             height:  80%;\n",
       "            background:  linear-gradient(90deg,#d65f5f 10.0%, transparent 10.0%);\n",
       "        }#T_fc24d24a_8d7e_11eb_a752_0242ac1c0002row18_col1{\n",
       "            width:  10em;\n",
       "             height:  80%;\n",
       "            background:  linear-gradient(90deg,#d65f5f 83.2%, transparent 83.2%);\n",
       "        }#T_fc24d24a_8d7e_11eb_a752_0242ac1c0002row19_col0{\n",
       "            width:  10em;\n",
       "             height:  80%;\n",
       "            background:  linear-gradient(90deg,#d65f5f 5.0%, transparent 5.0%);\n",
       "        }#T_fc24d24a_8d7e_11eb_a752_0242ac1c0002row19_col1{\n",
       "            width:  10em;\n",
       "             height:  80%;\n",
       "            background:  linear-gradient(90deg,#d65f5f 82.9%, transparent 82.9%);\n",
       "        }#T_fc24d24a_8d7e_11eb_a752_0242ac1c0002row19_col2{\n",
       "            width:  10em;\n",
       "             height:  80%;\n",
       "            background:  linear-gradient(90deg,#d65f5f 78.1%, transparent 78.1%);\n",
       "        }#T_fc24d24a_8d7e_11eb_a752_0242ac1c0002row20_col0{\n",
       "            width:  10em;\n",
       "             height:  80%;\n",
       "        }#T_fc24d24a_8d7e_11eb_a752_0242ac1c0002row20_col1{\n",
       "            width:  10em;\n",
       "             height:  80%;\n",
       "            background:  linear-gradient(90deg,#d65f5f 82.8%, transparent 82.8%);\n",
       "        }#T_fc24d24a_8d7e_11eb_a752_0242ac1c0002row20_col2{\n",
       "            width:  10em;\n",
       "             height:  80%;\n",
       "            background:  linear-gradient(90deg,#d65f5f 78.0%, transparent 78.0%);\n",
       "        }</style><table id=\"T_fc24d24a_8d7e_11eb_a752_0242ac1c0002\" ><thead>    <tr>        <th class=\"blank level0\" ></th>        <th class=\"col_heading level0 col0\" >lr_weight</th>        <th class=\"col_heading level0 col1\" >f1_train</th>        <th class=\"col_heading level0 col2\" >f1_valid</th>    </tr></thead><tbody>\n",
       "                <tr>\n",
       "                        <th id=\"T_fc24d24a_8d7e_11eb_a752_0242ac1c0002level0_row0\" class=\"row_heading level0 row0\" >10</th>\n",
       "                        <td id=\"T_fc24d24a_8d7e_11eb_a752_0242ac1c0002row0_col0\" class=\"data row0 col0\" >0.500000</td>\n",
       "                        <td id=\"T_fc24d24a_8d7e_11eb_a752_0242ac1c0002row0_col1\" class=\"data row0 col1\" >0.844430</td>\n",
       "                        <td id=\"T_fc24d24a_8d7e_11eb_a752_0242ac1c0002row0_col2\" class=\"data row0 col2\" >0.791607</td>\n",
       "            </tr>\n",
       "            <tr>\n",
       "                        <th id=\"T_fc24d24a_8d7e_11eb_a752_0242ac1c0002level0_row1\" class=\"row_heading level0 row1\" >8</th>\n",
       "                        <td id=\"T_fc24d24a_8d7e_11eb_a752_0242ac1c0002row1_col0\" class=\"data row1 col0\" >0.400000</td>\n",
       "                        <td id=\"T_fc24d24a_8d7e_11eb_a752_0242ac1c0002row1_col1\" class=\"data row1 col1\" >0.841478</td>\n",
       "                        <td id=\"T_fc24d24a_8d7e_11eb_a752_0242ac1c0002row1_col2\" class=\"data row1 col2\" >0.790779</td>\n",
       "            </tr>\n",
       "            <tr>\n",
       "                        <th id=\"T_fc24d24a_8d7e_11eb_a752_0242ac1c0002level0_row2\" class=\"row_heading level0 row2\" >9</th>\n",
       "                        <td id=\"T_fc24d24a_8d7e_11eb_a752_0242ac1c0002row2_col0\" class=\"data row2 col0\" >0.450000</td>\n",
       "                        <td id=\"T_fc24d24a_8d7e_11eb_a752_0242ac1c0002row2_col1\" class=\"data row2 col1\" >0.843426</td>\n",
       "                        <td id=\"T_fc24d24a_8d7e_11eb_a752_0242ac1c0002row2_col2\" class=\"data row2 col2\" >0.790772</td>\n",
       "            </tr>\n",
       "            <tr>\n",
       "                        <th id=\"T_fc24d24a_8d7e_11eb_a752_0242ac1c0002level0_row3\" class=\"row_heading level0 row3\" >11</th>\n",
       "                        <td id=\"T_fc24d24a_8d7e_11eb_a752_0242ac1c0002row3_col0\" class=\"data row3 col0\" >0.550000</td>\n",
       "                        <td id=\"T_fc24d24a_8d7e_11eb_a752_0242ac1c0002row3_col1\" class=\"data row3 col1\" >0.845333</td>\n",
       "                        <td id=\"T_fc24d24a_8d7e_11eb_a752_0242ac1c0002row3_col2\" class=\"data row3 col2\" >0.790084</td>\n",
       "            </tr>\n",
       "            <tr>\n",
       "                        <th id=\"T_fc24d24a_8d7e_11eb_a752_0242ac1c0002level0_row4\" class=\"row_heading level0 row4\" >7</th>\n",
       "                        <td id=\"T_fc24d24a_8d7e_11eb_a752_0242ac1c0002row4_col0\" class=\"data row4 col0\" >0.350000</td>\n",
       "                        <td id=\"T_fc24d24a_8d7e_11eb_a752_0242ac1c0002row4_col1\" class=\"data row4 col1\" >0.840343</td>\n",
       "                        <td id=\"T_fc24d24a_8d7e_11eb_a752_0242ac1c0002row4_col2\" class=\"data row4 col2\" >0.789900</td>\n",
       "            </tr>\n",
       "            <tr>\n",
       "                        <th id=\"T_fc24d24a_8d7e_11eb_a752_0242ac1c0002level0_row5\" class=\"row_heading level0 row5\" >12</th>\n",
       "                        <td id=\"T_fc24d24a_8d7e_11eb_a752_0242ac1c0002row5_col0\" class=\"data row5 col0\" >0.600000</td>\n",
       "                        <td id=\"T_fc24d24a_8d7e_11eb_a752_0242ac1c0002row5_col1\" class=\"data row5 col1\" >0.846113</td>\n",
       "                        <td id=\"T_fc24d24a_8d7e_11eb_a752_0242ac1c0002row5_col2\" class=\"data row5 col2\" >0.789474</td>\n",
       "            </tr>\n",
       "            <tr>\n",
       "                        <th id=\"T_fc24d24a_8d7e_11eb_a752_0242ac1c0002level0_row6\" class=\"row_heading level0 row6\" >13</th>\n",
       "                        <td id=\"T_fc24d24a_8d7e_11eb_a752_0242ac1c0002row6_col0\" class=\"data row6 col0\" >0.650000</td>\n",
       "                        <td id=\"T_fc24d24a_8d7e_11eb_a752_0242ac1c0002row6_col1\" class=\"data row6 col1\" >0.847117</td>\n",
       "                        <td id=\"T_fc24d24a_8d7e_11eb_a752_0242ac1c0002row6_col2\" class=\"data row6 col2\" >0.789098</td>\n",
       "            </tr>\n",
       "            <tr>\n",
       "                        <th id=\"T_fc24d24a_8d7e_11eb_a752_0242ac1c0002level0_row7\" class=\"row_heading level0 row7\" >14</th>\n",
       "                        <td id=\"T_fc24d24a_8d7e_11eb_a752_0242ac1c0002row7_col0\" class=\"data row7 col0\" >0.700000</td>\n",
       "                        <td id=\"T_fc24d24a_8d7e_11eb_a752_0242ac1c0002row7_col1\" class=\"data row7 col1\" >0.848420</td>\n",
       "                        <td id=\"T_fc24d24a_8d7e_11eb_a752_0242ac1c0002row7_col2\" class=\"data row7 col2\" >0.788666</td>\n",
       "            </tr>\n",
       "            <tr>\n",
       "                        <th id=\"T_fc24d24a_8d7e_11eb_a752_0242ac1c0002level0_row8\" class=\"row_heading level0 row8\" >15</th>\n",
       "                        <td id=\"T_fc24d24a_8d7e_11eb_a752_0242ac1c0002row8_col0\" class=\"data row8 col0\" >0.750000</td>\n",
       "                        <td id=\"T_fc24d24a_8d7e_11eb_a752_0242ac1c0002row8_col1\" class=\"data row8 col1\" >0.849949</td>\n",
       "                        <td id=\"T_fc24d24a_8d7e_11eb_a752_0242ac1c0002row8_col2\" class=\"data row8 col2\" >0.788550</td>\n",
       "            </tr>\n",
       "            <tr>\n",
       "                        <th id=\"T_fc24d24a_8d7e_11eb_a752_0242ac1c0002level0_row9\" class=\"row_heading level0 row9\" >6</th>\n",
       "                        <td id=\"T_fc24d24a_8d7e_11eb_a752_0242ac1c0002row9_col0\" class=\"data row9 col0\" >0.300000</td>\n",
       "                        <td id=\"T_fc24d24a_8d7e_11eb_a752_0242ac1c0002row9_col1\" class=\"data row9 col1\" >0.838779</td>\n",
       "                        <td id=\"T_fc24d24a_8d7e_11eb_a752_0242ac1c0002row9_col2\" class=\"data row9 col2\" >0.787639</td>\n",
       "            </tr>\n",
       "            <tr>\n",
       "                        <th id=\"T_fc24d24a_8d7e_11eb_a752_0242ac1c0002level0_row10\" class=\"row_heading level0 row10\" >16</th>\n",
       "                        <td id=\"T_fc24d24a_8d7e_11eb_a752_0242ac1c0002row10_col0\" class=\"data row10 col0\" >0.800000</td>\n",
       "                        <td id=\"T_fc24d24a_8d7e_11eb_a752_0242ac1c0002row10_col1\" class=\"data row10 col1\" >0.851655</td>\n",
       "                        <td id=\"T_fc24d24a_8d7e_11eb_a752_0242ac1c0002row10_col2\" class=\"data row10 col2\" >0.787305</td>\n",
       "            </tr>\n",
       "            <tr>\n",
       "                        <th id=\"T_fc24d24a_8d7e_11eb_a752_0242ac1c0002level0_row11\" class=\"row_heading level0 row11\" >5</th>\n",
       "                        <td id=\"T_fc24d24a_8d7e_11eb_a752_0242ac1c0002row11_col0\" class=\"data row11 col0\" >0.250000</td>\n",
       "                        <td id=\"T_fc24d24a_8d7e_11eb_a752_0242ac1c0002row11_col1\" class=\"data row11 col1\" >0.837751</td>\n",
       "                        <td id=\"T_fc24d24a_8d7e_11eb_a752_0242ac1c0002row11_col2\" class=\"data row11 col2\" >0.787015</td>\n",
       "            </tr>\n",
       "            <tr>\n",
       "                        <th id=\"T_fc24d24a_8d7e_11eb_a752_0242ac1c0002level0_row12\" class=\"row_heading level0 row12\" >17</th>\n",
       "                        <td id=\"T_fc24d24a_8d7e_11eb_a752_0242ac1c0002row12_col0\" class=\"data row12 col0\" >0.850000</td>\n",
       "                        <td id=\"T_fc24d24a_8d7e_11eb_a752_0242ac1c0002row12_col1\" class=\"data row12 col1\" >0.852624</td>\n",
       "                        <td id=\"T_fc24d24a_8d7e_11eb_a752_0242ac1c0002row12_col2\" class=\"data row12 col2\" >0.786446</td>\n",
       "            </tr>\n",
       "            <tr>\n",
       "                        <th id=\"T_fc24d24a_8d7e_11eb_a752_0242ac1c0002level0_row13\" class=\"row_heading level0 row13\" >4</th>\n",
       "                        <td id=\"T_fc24d24a_8d7e_11eb_a752_0242ac1c0002row13_col0\" class=\"data row13 col0\" >0.200000</td>\n",
       "                        <td id=\"T_fc24d24a_8d7e_11eb_a752_0242ac1c0002row13_col1\" class=\"data row13 col1\" >0.835629</td>\n",
       "                        <td id=\"T_fc24d24a_8d7e_11eb_a752_0242ac1c0002row13_col2\" class=\"data row13 col2\" >0.785759</td>\n",
       "            </tr>\n",
       "            <tr>\n",
       "                        <th id=\"T_fc24d24a_8d7e_11eb_a752_0242ac1c0002level0_row14\" class=\"row_heading level0 row14\" >19</th>\n",
       "                        <td id=\"T_fc24d24a_8d7e_11eb_a752_0242ac1c0002row14_col0\" class=\"data row14 col0\" >0.950000</td>\n",
       "                        <td id=\"T_fc24d24a_8d7e_11eb_a752_0242ac1c0002row14_col1\" class=\"data row14 col1\" >0.853639</td>\n",
       "                        <td id=\"T_fc24d24a_8d7e_11eb_a752_0242ac1c0002row14_col2\" class=\"data row14 col2\" >0.785064</td>\n",
       "            </tr>\n",
       "            <tr>\n",
       "                        <th id=\"T_fc24d24a_8d7e_11eb_a752_0242ac1c0002level0_row15\" class=\"row_heading level0 row15\" >18</th>\n",
       "                        <td id=\"T_fc24d24a_8d7e_11eb_a752_0242ac1c0002row15_col0\" class=\"data row15 col0\" >0.900000</td>\n",
       "                        <td id=\"T_fc24d24a_8d7e_11eb_a752_0242ac1c0002row15_col1\" class=\"data row15 col1\" >0.853584</td>\n",
       "                        <td id=\"T_fc24d24a_8d7e_11eb_a752_0242ac1c0002row15_col2\" class=\"data row15 col2\" >0.784782</td>\n",
       "            </tr>\n",
       "            <tr>\n",
       "                        <th id=\"T_fc24d24a_8d7e_11eb_a752_0242ac1c0002level0_row16\" class=\"row_heading level0 row16\" >3</th>\n",
       "                        <td id=\"T_fc24d24a_8d7e_11eb_a752_0242ac1c0002row16_col0\" class=\"data row16 col0\" >0.150000</td>\n",
       "                        <td id=\"T_fc24d24a_8d7e_11eb_a752_0242ac1c0002row16_col1\" class=\"data row16 col1\" >0.833467</td>\n",
       "                        <td id=\"T_fc24d24a_8d7e_11eb_a752_0242ac1c0002row16_col2\" class=\"data row16 col2\" >0.783570</td>\n",
       "            </tr>\n",
       "            <tr>\n",
       "                        <th id=\"T_fc24d24a_8d7e_11eb_a752_0242ac1c0002level0_row17\" class=\"row_heading level0 row17\" >20</th>\n",
       "                        <td id=\"T_fc24d24a_8d7e_11eb_a752_0242ac1c0002row17_col0\" class=\"data row17 col0\" >1.000000</td>\n",
       "                        <td id=\"T_fc24d24a_8d7e_11eb_a752_0242ac1c0002row17_col1\" class=\"data row17 col1\" >0.854189</td>\n",
       "                        <td id=\"T_fc24d24a_8d7e_11eb_a752_0242ac1c0002row17_col2\" class=\"data row17 col2\" >0.783466</td>\n",
       "            </tr>\n",
       "            <tr>\n",
       "                        <th id=\"T_fc24d24a_8d7e_11eb_a752_0242ac1c0002level0_row18\" class=\"row_heading level0 row18\" >2</th>\n",
       "                        <td id=\"T_fc24d24a_8d7e_11eb_a752_0242ac1c0002row18_col0\" class=\"data row18 col0\" >0.100000</td>\n",
       "                        <td id=\"T_fc24d24a_8d7e_11eb_a752_0242ac1c0002row18_col1\" class=\"data row18 col1\" >0.832095</td>\n",
       "                        <td id=\"T_fc24d24a_8d7e_11eb_a752_0242ac1c0002row18_col2\" class=\"data row18 col2\" >0.782540</td>\n",
       "            </tr>\n",
       "            <tr>\n",
       "                        <th id=\"T_fc24d24a_8d7e_11eb_a752_0242ac1c0002level0_row19\" class=\"row_heading level0 row19\" >1</th>\n",
       "                        <td id=\"T_fc24d24a_8d7e_11eb_a752_0242ac1c0002row19_col0\" class=\"data row19 col0\" >0.050000</td>\n",
       "                        <td id=\"T_fc24d24a_8d7e_11eb_a752_0242ac1c0002row19_col1\" class=\"data row19 col1\" >0.829438</td>\n",
       "                        <td id=\"T_fc24d24a_8d7e_11eb_a752_0242ac1c0002row19_col2\" class=\"data row19 col2\" >0.780557</td>\n",
       "            </tr>\n",
       "            <tr>\n",
       "                        <th id=\"T_fc24d24a_8d7e_11eb_a752_0242ac1c0002level0_row20\" class=\"row_heading level0 row20\" >0</th>\n",
       "                        <td id=\"T_fc24d24a_8d7e_11eb_a752_0242ac1c0002row20_col0\" class=\"data row20 col0\" >0.000000</td>\n",
       "                        <td id=\"T_fc24d24a_8d7e_11eb_a752_0242ac1c0002row20_col1\" class=\"data row20 col1\" >0.827759</td>\n",
       "                        <td id=\"T_fc24d24a_8d7e_11eb_a752_0242ac1c0002row20_col2\" class=\"data row20 col2\" >0.779576</td>\n",
       "            </tr>\n",
       "    </tbody></table>"
      ],
      "text/plain": [
       "<pandas.io.formats.style.Styler at 0x7f1f273edad0>"
      ]
     },
     "execution_count": 93,
     "metadata": {
      "tags": []
     },
     "output_type": "execute_result"
    }
   ],
   "source": [
    "results = pd.DataFrame(results)\n",
    "\n",
    "results.sort_values('f1_valid', ascending=False).style.bar(vmin=0, vmax=1)"
   ]
  },
  {
   "cell_type": "markdown",
   "metadata": {
    "id": "fKi_005Xsbmg"
   },
   "source": [
    "Наилучший результат на валидационной выборке (0.79) показывает среднее арифмитическое предсказанных вероятностей двух моделей (w1 = w1 = 0.5)."
   ]
  },
  {
   "cell_type": "markdown",
   "metadata": {
    "id": "LFGJy__1sw4v"
   },
   "source": [
    "## 3. Тестирование <a id=\"3\"></a>"
   ]
  },
  {
   "cell_type": "markdown",
   "metadata": {
    "id": "5pLFlrYRszvY"
   },
   "source": [
    "Получим предсказания на тестовой выборке:"
   ]
  },
  {
   "cell_type": "code",
   "execution_count": 95,
   "metadata": {
    "colab": {
     "base_uri": "https://localhost:8080/"
    },
    "id": "CbdZpWj898EV",
    "outputId": "1ae96522-8520-4d34-d754-4c728c195d75"
   },
   "outputs": [
    {
     "name": "stdout",
     "output_type": "stream",
     "text": [
      "F1-score на тестовой выборке: 0.7831620166421929\n"
     ]
    }
   ],
   "source": [
    "weight_lr = 0.5\n",
    "threshold = 0.7\n",
    "\n",
    "prob_one_test_ensemble = lr.predict_proba(X_test)[:, 1] * weight_lr + lgbm.predict_proba(X_test)[:, 1] * (1 - weight_lr)\n",
    "\n",
    "pred_test_ensemble = prob_one_test_ensemble > threshold\n",
    "\n",
    "print('F1-score на тестовой выборке:', f1_score(y_true=y_test, y_pred=pred_test_ensemble))"
   ]
  },
  {
   "cell_type": "markdown",
   "metadata": {
    "id": "Vip3ah2JtCiQ"
   },
   "source": [
    "Значение F1-меры (0.78) больше требуемого уровня (0.75)."
   ]
  },
  {
   "cell_type": "markdown",
   "metadata": {
    "id": "3_w8G1LptcRv"
   },
   "source": [
    "## Вывод <a id=\"4\"></a>"
   ]
  },
  {
   "cell_type": "markdown",
   "metadata": {
    "id": "cNm-1WFathIA"
   },
   "source": [
    "Таким образом, были построены ряд моделей для выявления токсичных комментариев. Наилучшие результаты на валидационной выборке показали модели логистической регрессии (F1-score = 0.784) и градиентного бустинга (0.780). Усреднив вероятности, предсказанные этими 2 моделями, и использовав порог классификации 0.7, удалось увеличить значение F1-меры до 0.792. Значение целевой метрики на тестовой выборке составило 0.783, что больше требуемых 0.75."
   ]
  }
 ],
 "metadata": {
  "colab": {
   "collapsed_sections": [],
   "name": "toxic_comments.ipynb",
   "provenance": []
  },
  "kernelspec": {
   "display_name": "Python 3",
   "language": "python",
   "name": "python3"
  },
  "language_info": {
   "codemirror_mode": {
    "name": "ipython",
    "version": 3
   },
   "file_extension": ".py",
   "mimetype": "text/x-python",
   "name": "python",
   "nbconvert_exporter": "python",
   "pygments_lexer": "ipython3",
   "version": "3.8.3"
  },
  "varInspector": {
   "cols": {
    "lenName": 16,
    "lenType": 16,
    "lenVar": 40
   },
   "kernels_config": {
    "python": {
     "delete_cmd_postfix": "",
     "delete_cmd_prefix": "del ",
     "library": "var_list.py",
     "varRefreshCmd": "print(var_dic_list())"
    },
    "r": {
     "delete_cmd_postfix": ") ",
     "delete_cmd_prefix": "rm(",
     "library": "var_list.r",
     "varRefreshCmd": "cat(var_dic_list()) "
    }
   },
   "types_to_exclude": [
    "module",
    "function",
    "builtin_function_or_method",
    "instance",
    "_Feature"
   ],
   "window_display": false
  }
 },
 "nbformat": 4,
 "nbformat_minor": 1
}
